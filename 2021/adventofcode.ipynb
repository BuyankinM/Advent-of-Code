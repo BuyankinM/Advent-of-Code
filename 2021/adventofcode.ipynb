{
 "cells": [
  {
   "cell_type": "code",
   "execution_count": 1,
   "id": "d56c97d3-cf8d-4cf7-91be-22525fb29834",
   "metadata": {
    "tags": []
   },
   "outputs": [],
   "source": [
    "from collections import defaultdict\n",
    "from itertools import accumulate\n",
    "from functools import reduce\n",
    "from operator import mul\n",
    "import re"
   ]
  },
  {
   "cell_type": "markdown",
   "id": "8cecec6a-839b-4769-995a-284c8d83d3b1",
   "metadata": {
    "jp-MarkdownHeadingCollapsed": true,
    "tags": []
   },
   "source": [
    "## Day 1.\n",
    "https://adventofcode.com/2021/day/1"
   ]
  },
  {
   "cell_type": "code",
   "execution_count": 2,
   "id": "08442a2e-cc12-4741-b68c-be7fefc85660",
   "metadata": {
    "jupyter": {
     "source_hidden": true
    },
    "tags": []
   },
   "outputs": [
    {
     "name": "stdout",
     "output_type": "stream",
     "text": [
      "Task 1 = 1676\n",
      "Task 2 = 1706\n"
     ]
    }
   ],
   "source": [
    "# Task 1\n",
    "with open(\"./Task_1/input.txt\") as f:\n",
    "    num = 0\n",
    "    prev = 0\n",
    "    for line in f:\n",
    "        cur_val = int(line)\n",
    "        if cur_val > prev and prev > 0:\n",
    "            num += 1\n",
    "        prev = cur_val\n",
    "\n",
    "print(\"Task 1 =\", num)\n",
    "\n",
    "# Task 2\n",
    "with open(\"./Task_1/input.txt\") as f:\n",
    "    num = 0\n",
    "    prev = 0\n",
    "    acc = [0] * 3\n",
    "\n",
    "    for (pos,  line) in enumerate(f):\n",
    "        cur_val = int(line)\n",
    "        acc[pos % 3] = cur_val\n",
    "\n",
    "        if pos < 2:\n",
    "            # print(l.strip())\n",
    "            continue\n",
    "\n",
    "        cur_sum = sum(acc)\n",
    "        if prev > 0 and cur_sum > prev:\n",
    "            num += 1\n",
    "        prev = cur_sum\n",
    "\n",
    "print(\"Task 2 =\", num)"
   ]
  },
  {
   "cell_type": "markdown",
   "id": "c1453a84-2f4b-4b74-ae72-7a23c51e298d",
   "metadata": {
    "jp-MarkdownHeadingCollapsed": true,
    "tags": []
   },
   "source": [
    "## Day 2.\n",
    "https://adventofcode.com/2021/day/2"
   ]
  },
  {
   "cell_type": "code",
   "execution_count": 3,
   "id": "f0f3f98d-a08f-425f-b5df-804944410b6e",
   "metadata": {
    "tags": []
   },
   "outputs": [
    {
     "name": "stdout",
     "output_type": "stream",
     "text": [
      "Task 1 = 1635930\n",
      "Task 2 = 1781819478\n"
     ]
    }
   ],
   "source": [
    "# Task 1\n",
    "with open(\"./Task_2/input.txt\") as f:\n",
    "    x, y = 0, 0\n",
    "    for line in f:\n",
    "        dir, val = line.split()\n",
    "        cur_val = int(val)\n",
    "        if dir == \"forward\":\n",
    "            x += cur_val\n",
    "        elif dir == \"down\":\n",
    "            y += cur_val\n",
    "        else:\n",
    "            y -= cur_val\n",
    "print(\"Task 1 =\", x*y)\n",
    "\n",
    "# Task 2\n",
    "with open(\"./Task_2/input.txt\") as f:\n",
    "    x, y = 0, 0\n",
    "    aim = 0\n",
    "    for line in f:\n",
    "        dir, val = line.split()\n",
    "        cur_val = int(val)\n",
    "        if dir == \"forward\":\n",
    "            x += cur_val\n",
    "            y += aim * cur_val\n",
    "        elif dir == \"down\":\n",
    "            aim += cur_val\n",
    "        else:\n",
    "            aim -= cur_val\n",
    "\n",
    "print(\"Task 2 =\", x*y)"
   ]
  },
  {
   "cell_type": "markdown",
   "id": "e2742919-fec5-4248-8499-3aec12e208ef",
   "metadata": {
    "jp-MarkdownHeadingCollapsed": true,
    "tags": []
   },
   "source": [
    "## Day 3.\n",
    "https://adventofcode.com/2021/day/3"
   ]
  },
  {
   "cell_type": "code",
   "execution_count": 4,
   "id": "f6d0605d-2eb7-4cf9-9ce2-b56d964b9e75",
   "metadata": {
    "jupyter": {
     "source_hidden": true
    },
    "tags": []
   },
   "outputs": [
    {
     "name": "stdout",
     "output_type": "stream",
     "text": [
      "Task 1 = 655762309\n",
      "Task 2 = 1032597\n"
     ]
    }
   ],
   "source": [
    "# Task 1\n",
    "with open(\"./Task_3/input.txt\") as f:\n",
    "    a = [0] * 12\n",
    "    for line in f:\n",
    "        for pos, c in enumerate(line.strip()):\n",
    "            a[pos] += 1 if c == \"1\" else -1\n",
    "\n",
    "    res_dig, res2 = \"\", \"\"\n",
    "    for x in a:\n",
    "        res_dig += \"1\" if x > 0 else \"0\"\n",
    "        res2 += \"0\" \"1\" if x > 0 else \"1\"\n",
    "\n",
    "print(\"Task 1 =\", int(res_dig, 2) * int(res2, 2))\n",
    "\n",
    "# Task 2\n",
    "with open(\"./Task_3/input.txt\") as f:\n",
    "    lll = [line.strip() for line in f]\n",
    "    ll = lll[:]\n",
    "\n",
    "    for pos in range(len(ll[0])):\n",
    "        counter = 0\n",
    "        d1, d0 = [], []\n",
    "        for s in ll:\n",
    "            key = 1 if s[pos] == \"1\" else -1\n",
    "            counter += key\n",
    "            if key == 1:\n",
    "                d1.append(s)\n",
    "            else:\n",
    "                d0.append(s)\n",
    "\n",
    "        ll = d1 if counter >= 0 else d0\n",
    "        if len(ll) == 1:\n",
    "            break\n",
    "\n",
    "    oxy = int(ll[0], 2)\n",
    "\n",
    "    ll = lll[:]\n",
    "    for pos in range(len(ll[0])):\n",
    "        counter = 0\n",
    "        d1, d0 = [], []\n",
    "        for s in ll:\n",
    "            key = 1 if s[pos] == \"1\" else -1\n",
    "            counter += key\n",
    "            if key == 1:\n",
    "                d1.append(s)\n",
    "            else:\n",
    "                d0.append(s)\n",
    "\n",
    "        ll = d0 if counter >= 0 else d1\n",
    "        if len(ll) == 1:\n",
    "            break\n",
    "\n",
    "    co2 = int(ll[0], 2)\n",
    "\n",
    "print(\"Task 2 =\", oxy * co2)"
   ]
  },
  {
   "cell_type": "markdown",
   "id": "48ba93e6-8a29-41f4-b585-97220c9526b5",
   "metadata": {
    "jp-MarkdownHeadingCollapsed": true,
    "tags": []
   },
   "source": [
    "## Day 4.\n",
    "https://adventofcode.com/2021/day/4"
   ]
  },
  {
   "cell_type": "code",
   "execution_count": 5,
   "id": "92d89493-2cd1-49a1-ac40-c649b4e79143",
   "metadata": {
    "jupyter": {
     "source_hidden": true
    },
    "tags": []
   },
   "outputs": [
    {
     "name": "stdout",
     "output_type": "stream",
     "text": [
      "Task 1 = 25410\n"
     ]
    }
   ],
   "source": [
    "# Task 1\n",
    "nums = []\n",
    "cards = []\n",
    "n = -1\n",
    "nums_dict = {}\n",
    "\n",
    "with open(\"./Task_4/input.txt\") as f:\n",
    "    for pos, line in enumerate(f):\n",
    "        if pos == 0:\n",
    "            nums = [int(d) for d in line.split(\",\")]\n",
    "        else:\n",
    "            if not line.strip():\n",
    "                n += 1\n",
    "                cards.append([])\n",
    "            else:\n",
    "                line_card = []\n",
    "                num_line = len(cards[n])\n",
    "                for col, dd in ((j, int(d)) for (j, d) in enumerate(line.split())):\n",
    "                    line_card.append(dd)\n",
    "                    if dd not in nums_dict:\n",
    "                        nums_dict[dd] = []\n",
    "                    nums_dict[dd].append((n, num_line, col))\n",
    "                cards[n].append(line_card)\n",
    "\n",
    "sum_all_others = -1\n",
    "for n in nums:\n",
    "    if n not in nums_dict:\n",
    "        continue\n",
    "    for (idx_card, idx_line, idx_col) in nums_dict[n]:\n",
    "        card = cards[idx_card]\n",
    "        line = card[idx_line]\n",
    "        line[idx_col] = -1\n",
    "        col = [line[idx_col] for line in card]\n",
    "\n",
    "        if sum(line) == -5 or sum(col) == -5:\n",
    "            sum_all_others = 0\n",
    "            for line in card:\n",
    "                for val in line:\n",
    "                    if val > -1:\n",
    "                        sum_all_others += val\n",
    "            print(\"Task 1 =\", sum_all_others * n)\n",
    "            break\n",
    "\n",
    "    if sum_all_others > -1:\n",
    "        break"
   ]
  },
  {
   "cell_type": "code",
   "execution_count": 6,
   "id": "b6665ce5-288c-43d3-bb5a-8cb5deee0132",
   "metadata": {
    "jupyter": {
     "source_hidden": true
    },
    "tags": []
   },
   "outputs": [
    {
     "name": "stdout",
     "output_type": "stream",
     "text": [
      "Task 1 = 2730\n"
     ]
    }
   ],
   "source": [
    "# Task 2\n",
    "nums = []\n",
    "cards = []\n",
    "n = -1\n",
    "nums_dict = {}\n",
    "\n",
    "with open(\"./Task_4/input.txt\") as f:\n",
    "    for pos, line in enumerate(f):\n",
    "        if pos == 0:\n",
    "            nums = [int(d) for d in line.split(\",\")]\n",
    "        else:\n",
    "            if not line.strip():\n",
    "                n += 1\n",
    "                cards.append([])\n",
    "            else:\n",
    "                line_card = []\n",
    "                num_line = len(cards[n])\n",
    "                for col, dd in ((j, int(d)) for (j, d) in enumerate(line.split())):\n",
    "                    line_card.append(dd)\n",
    "                    if dd not in nums_dict:\n",
    "                        nums_dict[dd] = []\n",
    "                    nums_dict[dd].append((n, num_line, col))\n",
    "                cards[n].append(line_card)\n",
    "\n",
    "cards_win = [False] * len(cards)\n",
    "sum_all_others = -1\n",
    "\n",
    "for n in nums:\n",
    "    if n not in nums_dict:\n",
    "        continue\n",
    "\n",
    "    for (idx_card, idx_line, idx_col) in nums_dict[n]:\n",
    "        card = cards[idx_card]\n",
    "        line = card[idx_line]\n",
    "        line[idx_col] = -1\n",
    "        col = [line_card[idx_col] for line_card in card]\n",
    "\n",
    "        if sum(line) == -5 or sum(col) == -5:\n",
    "            cards_win[idx_card] = True\n",
    "            if not all(cards_win):\n",
    "                continue\n",
    "\n",
    "            sum_all_others = 0\n",
    "            for line in card:\n",
    "                for val in line:\n",
    "                    if val > -1:\n",
    "                        sum_all_others += val\n",
    "            print(\"Task 1 =\", sum_all_others * n)\n",
    "            break\n",
    "\n",
    "    if sum_all_others > -1:\n",
    "        break"
   ]
  },
  {
   "cell_type": "markdown",
   "id": "c577860a-67af-451a-b5a3-9ef5c7c7f3d3",
   "metadata": {
    "jp-MarkdownHeadingCollapsed": true,
    "tags": []
   },
   "source": [
    "## Day 5.\n",
    "https://adventofcode.com/2021/day/5"
   ]
  },
  {
   "cell_type": "code",
   "execution_count": 7,
   "id": "9e0326f6-3cfa-4cc8-bff5-89c413beb240",
   "metadata": {
    "jupyter": {
     "source_hidden": true
    },
    "tags": []
   },
   "outputs": [
    {
     "name": "stdout",
     "output_type": "stream",
     "text": [
      "Task 1 = 5167\n"
     ]
    }
   ],
   "source": [
    "# Task 1\n",
    "d = defaultdict(int)\n",
    "\n",
    "with open(\"./Task_5/input.txt\") as f:\n",
    "    for line in f:\n",
    "        x1, y1, x2, y2 = [int(d) for d in re.findall(\n",
    "            r\"(\\d+),(\\d+) -> (\\d+),(\\d+)\",\n",
    "            line.strip())[0]]\n",
    "        if x1 == x2:\n",
    "            for y in range(min(y1, y2), max(y1, y2) + 1):\n",
    "                d[(x1, y)] += 1\n",
    "        elif y1 == y2:\n",
    "            for x in range(min(x1, x2), max(x1, x2) + 1):\n",
    "                d[(x, y1)] += 1\n",
    "\n",
    "print(\"Task 1 =\", sum(1 for val in d.values() if val > 1))"
   ]
  },
  {
   "cell_type": "code",
   "execution_count": 8,
   "id": "c894e214-a12e-45cf-b90a-cb409b84c318",
   "metadata": {
    "jupyter": {
     "source_hidden": true
    },
    "tags": []
   },
   "outputs": [
    {
     "name": "stdout",
     "output_type": "stream",
     "text": [
      "Task 2 = 17604\n"
     ]
    }
   ],
   "source": [
    "# Task 2\n",
    "d = defaultdict(int)\n",
    "\n",
    "with open(\"./Task_5/input.txt\") as f:\n",
    "    for line in f:\n",
    "        x1, y1, x2, y2 = [int(d) for d in re.findall(\n",
    "            r\"(\\d+),(\\d+) -> (\\d+),(\\d+)\",\n",
    "            line.strip())[0]]\n",
    "        if x1 == x2:\n",
    "            for y in range(min(y1, y2), max(y1, y2) + 1):\n",
    "                d[(x1, y)] += 1\n",
    "        elif y1 == y2:\n",
    "            for x in range(min(x1, x2), max(x1, x2) + 1):\n",
    "                d[(x, y1)] += 1\n",
    "        elif y1 - x1 == y2 - x2:\n",
    "            start_x = min(x1, x2)\n",
    "            start_y = min(y1, y2)\n",
    "            for pos in range(abs(x2 - x1) + 1):\n",
    "                d[(start_x + pos, start_y + pos)] += 1\n",
    "        elif y1 + x1 == x2 + y2:\n",
    "            start_x = min(x1, x2)\n",
    "            start_y = max(y1, y2)\n",
    "            for pos in range(abs(x2 - x1) + 1):\n",
    "                d[(start_x + pos, start_y - pos)] += 1\n",
    "\n",
    "print(\"Task 2 =\", sum(1 for val in d.values() if val > 1))"
   ]
  },
  {
   "cell_type": "markdown",
   "id": "7976ffce-ff74-4267-9f12-6b648bc5171f",
   "metadata": {
    "jp-MarkdownHeadingCollapsed": true,
    "tags": []
   },
   "source": [
    "## Day 6.\n",
    "https://adventofcode.com/2021/day/6"
   ]
  },
  {
   "cell_type": "code",
   "execution_count": 9,
   "id": "555bd478-3d00-415a-8dc0-3b13074e9d6b",
   "metadata": {
    "jupyter": {
     "source_hidden": true
    },
    "tags": []
   },
   "outputs": [
    {
     "name": "stdout",
     "output_type": "stream",
     "text": [
      "Task 1 = 356190\n",
      "Task 2 = 1617359101538\n"
     ]
    }
   ],
   "source": [
    "# Task 1\n",
    "with open(\"./Task_6/input.txt\") as f:\n",
    "    for line in f:\n",
    "        ll = [int(d) for d in line.split(\",\")]\n",
    "\n",
    "acc = defaultdict(int)\n",
    "\n",
    "for v in ll:\n",
    "    acc[v + 1] += 1\n",
    "\n",
    "res_dig = len(ll)\n",
    "\n",
    "for day in range(257):\n",
    "    if day not in acc:\n",
    "        continue\n",
    "    new = acc[day]\n",
    "    res_dig += new\n",
    "    acc[day + 7] += new\n",
    "    acc[day + 9] += new\n",
    "\n",
    "    if day == 80:\n",
    "        print(\"Task 1 =\", res_dig)\n",
    "\n",
    "print(\"Task 2 =\", res_dig)"
   ]
  },
  {
   "cell_type": "markdown",
   "id": "51d625af-2049-44ec-aed9-b467591d9677",
   "metadata": {
    "jp-MarkdownHeadingCollapsed": true,
    "tags": []
   },
   "source": [
    "## Day 7.\n",
    "https://adventofcode.com/2021/day/7"
   ]
  },
  {
   "cell_type": "code",
   "execution_count": 10,
   "id": "db277c18-1656-4bc5-a5e4-b784865b7587",
   "metadata": {
    "jupyter": {
     "source_hidden": true
    },
    "tags": []
   },
   "outputs": [
    {
     "name": "stdout",
     "output_type": "stream",
     "text": [
      "Task 1 = 345035\n"
     ]
    }
   ],
   "source": [
    "# Task 1\n",
    "with open(\"./Task_7/input.txt\") as f:\n",
    "    for line in f:\n",
    "        ll = [int(d) for d in line.split(\",\")]\n",
    "\n",
    "ll.sort()\n",
    "min_sum = 0\n",
    "for pos in range(min(ll), max(ll) + 1):\n",
    "    new_sum = sum(abs(x-pos) for x in ll)\n",
    "    if min_sum == 0 or new_sum < min_sum:\n",
    "        min_sum = new_sum\n",
    "    else:\n",
    "        break\n",
    "\n",
    "print(\"Task 1 =\", min_sum)"
   ]
  },
  {
   "cell_type": "code",
   "execution_count": 11,
   "id": "63d160e0-66e4-4f81-b52d-9205fbfc0c7c",
   "metadata": {
    "jupyter": {
     "source_hidden": true
    },
    "tags": []
   },
   "outputs": [
    {
     "name": "stdout",
     "output_type": "stream",
     "text": [
      "Task 2 = 97038163\n"
     ]
    }
   ],
   "source": [
    "# Task 2\n",
    "with open(\"./Task_7/input.txt\") as f:\n",
    "    for line in f:\n",
    "        ll = [int(d) for d in line.split(\",\")]\n",
    "\n",
    "ll.sort()\n",
    "\n",
    "min_sum = 0\n",
    "max_val = max(ll)\n",
    "min_val = min(ll)\n",
    "\n",
    "acc = list(accumulate(range(max_val - min_val + 1)))\n",
    "\n",
    "for pos in range(min_val, max_val + 1):\n",
    "    new_sum = sum(acc[abs(x-pos)] for x in ll)\n",
    "    if min_sum == 0 or new_sum < min_sum:\n",
    "        min_sum = new_sum\n",
    "    else:\n",
    "        break\n",
    "\n",
    "print(\"Task 2 =\", min_sum)"
   ]
  },
  {
   "cell_type": "markdown",
   "id": "374a44bd-7e08-453b-955e-90c8db8f0a90",
   "metadata": {
    "jp-MarkdownHeadingCollapsed": true,
    "tags": []
   },
   "source": [
    "## Day 8.\n",
    "https://adventofcode.com/2021/day/8"
   ]
  },
  {
   "cell_type": "code",
   "execution_count": 12,
   "id": "78ba8a17-74ce-42c4-8691-c9ea8db0f204",
   "metadata": {
    "tags": []
   },
   "outputs": [
    {
     "name": "stdout",
     "output_type": "stream",
     "text": [
      "Task 1 = 421\n"
     ]
    }
   ],
   "source": [
    "# Task 1\n",
    "acc = defaultdict(int)\n",
    "\n",
    "with open(\"./Task_8/input.txt\") as f:\n",
    "    for line in f:\n",
    "        _, dig = line.split(\" | \")\n",
    "        for code in dig.split():\n",
    "            acc[len(code)] += 1\n",
    "\n",
    "print(\"Task 1 =\", acc[2] + acc[4] + acc[3] + acc[7])"
   ]
  },
  {
   "cell_type": "code",
   "execution_count": 13,
   "id": "01c0de94-f53d-4b30-aa81-0259cf04292c",
   "metadata": {
    "tags": []
   },
   "outputs": [
    {
     "name": "stdout",
     "output_type": "stream",
     "text": [
      "Task 2 = 986163\n"
     ]
    }
   ],
   "source": [
    "# Task 2\n",
    "res_sum = 0\n",
    "\n",
    "with open(\"./Task_8/input.txt\") as f:\n",
    "    for line in f:\n",
    "\n",
    "        digs_dict = {}\n",
    "        acc = defaultdict(list)\n",
    "\n",
    "        uniq, out = line.split(\" | \")\n",
    "\n",
    "        for dd in uniq.split():\n",
    "            acc[len(dd)].append(frozenset(dd))\n",
    "\n",
    "        # 1\n",
    "        dig_1 = acc[2][0]\n",
    "        digs_dict[dig_1] = 1\n",
    "\n",
    "        # 4\n",
    "        dig_4 = acc[4][0]\n",
    "        digs_dict[dig_4] = 4\n",
    "\n",
    "        # 7\n",
    "        digs_dict[acc[3][0]] = 7\n",
    "\n",
    "        # 8\n",
    "        digs_dict[acc[7][0]] = 8\n",
    "\n",
    "        # 6 9 0\n",
    "        for val in acc[6]:\n",
    "            if len(val & dig_1) == 1:\n",
    "                digs_dict[val] = 6\n",
    "\n",
    "            elif len(val & dig_4) == 4:\n",
    "                dig_9 = val\n",
    "                digs_dict[dig_9] = 9\n",
    "\n",
    "            else:\n",
    "                digs_dict[val] = 0\n",
    "\n",
    "        # 2 3 5\n",
    "        for val in acc[5]:\n",
    "            if len(val & dig_1) == 2:\n",
    "                digs_dict[val] = 3\n",
    "\n",
    "            elif len(val & dig_9) == 5:\n",
    "                digs_dict[val] = 5\n",
    "\n",
    "            else:\n",
    "                digs_dict[val] = 2\n",
    "\n",
    "        res_dig = 0\n",
    "        for dd in out.split():\n",
    "            res_dig *= 10\n",
    "            res_dig += digs_dict[frozenset(dd)]\n",
    "\n",
    "        res_sum += res_dig\n",
    "\n",
    "print(\"Task 2 =\", res_sum)"
   ]
  },
  {
   "cell_type": "markdown",
   "id": "795923fc-055e-4f6d-976e-b9aad8b90b4f",
   "metadata": {},
   "source": [
    "## Day 9.\n",
    "https://adventofcode.com/2021/day/9"
   ]
  },
  {
   "cell_type": "code",
   "execution_count": 14,
   "id": "273c8873-9d38-4db8-895b-480945e2b516",
   "metadata": {},
   "outputs": [
    {
     "name": "stdout",
     "output_type": "stream",
     "text": [
      "Task 1 = 456\n"
     ]
    }
   ],
   "source": [
    "# Task 1\n",
    "map = []\n",
    "\n",
    "with open(\"./Task_9/input.txt\") as f:\n",
    "    for line in f:\n",
    "        map.append([int(d) for d in line.strip()])\n",
    "\n",
    "    res = 0\n",
    "    m, n = len(map), len(map[0])\n",
    "    for i, line in enumerate(map):\n",
    "        for j, val in enumerate(line):\n",
    "            locations = []\n",
    "            if i > 0:\n",
    "                locations.append(map[i - 1][j])\n",
    "            if i < m - 1:\n",
    "                locations.append(map[i + 1][j])\n",
    "            if j > 0:\n",
    "                locations.append(map[i][j - 1])\n",
    "            if j < n - 1:\n",
    "                locations.append(map[i][j + 1])\n",
    "\n",
    "            if val < min(locations):\n",
    "                res += val + 1\n",
    "\n",
    "print(\"Task 1 =\", res)"
   ]
  },
  {
   "cell_type": "code",
   "execution_count": 15,
   "id": "3eb9bca0-2390-473d-9a30-1b25b198dcdb",
   "metadata": {},
   "outputs": [
    {
     "name": "stdout",
     "output_type": "stream",
     "text": [
      "Task 2 = 1047744\n"
     ]
    }
   ],
   "source": [
    "# Task 1\n",
    "map = []\n",
    "\n",
    "with open(\"./Task_9/input.txt\") as f:\n",
    "    for line in f:\n",
    "        map.append([int(d) for d in line.strip()])\n",
    "\n",
    "    dirs = [(-1, 0), (1, 0), (0, -1), (0, 1)]\n",
    "    points = set()\n",
    "\n",
    "    m, n = len(map), len(map[0])\n",
    "    for i, line in enumerate(map):\n",
    "        for j, val in enumerate(line):\n",
    "            locations = []\n",
    "            for di, dj in dirs:\n",
    "                new_i, new_j = i + di, j + dj\n",
    "                if 0 <= new_i <= m - 1 and 0 <= new_j <= n - 1:\n",
    "                    locations.append(map[new_i][new_j])\n",
    "\n",
    "            if val < min(locations):\n",
    "                points.add((i, j))\n",
    "\n",
    "    basins = []\n",
    "    for (i, j) in points:\n",
    "        basin_size = 0\n",
    "        visited = set()\n",
    "        stack = [(map[i][j], i, j)]\n",
    "\n",
    "        while stack:\n",
    "            val, ii, jj = stack.pop()\n",
    "            if (ii, jj) in visited:\n",
    "                continue\n",
    "\n",
    "            visited.add((ii, jj))\n",
    "            basin_size += 1\n",
    "\n",
    "            for di, dj in dirs:\n",
    "                new_i, new_j = ii + di, jj + dj\n",
    "                if 0 <= new_i <= m - 1 \\\n",
    "                    and 0 <= new_j <= n - 1 \\\n",
    "                        and (new_i, new_j) not in visited:\n",
    "\n",
    "                    new_val = map[new_i][new_j]\n",
    "                    if val < new_val < 9:\n",
    "                        stack.append((new_val, new_i, new_j))\n",
    "\n",
    "        basins.append(basin_size)\n",
    "\n",
    "basins.sort()\n",
    "result = reduce(mul, basins[-3:])\n",
    "print(\"Task 2 =\", result)"
   ]
  }
 ],
 "metadata": {
  "kernelspec": {
   "display_name": "Python 3 (ipykernel)",
   "language": "python",
   "name": "python3"
  },
  "language_info": {
   "codemirror_mode": {
    "name": "ipython",
    "version": 3
   },
   "file_extension": ".py",
   "mimetype": "text/x-python",
   "name": "python",
   "nbconvert_exporter": "python",
   "pygments_lexer": "ipython3",
   "version": "3.9.7"
  }
 },
 "nbformat": 4,
 "nbformat_minor": 5
}

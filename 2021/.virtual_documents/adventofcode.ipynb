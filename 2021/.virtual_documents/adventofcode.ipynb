import re
from collections import Counter, defaultdict
from functools import reduce
from heapq import heappop, heappush
from itertools import accumulate
from operator import mul


# Task 1
with open("./Day_01/input.txt") as f:
    num = 0
    prev = 0
    for line in f:
        cur_val = int(line)
        if cur_val > prev and prev > 0:
            num += 1
        prev = cur_val

print("Task 1 =", num)

# Task 2
with open("./Day_01/input.txt") as f:
    num = 0
    prev = 0
    acc = [0] * 3

    for (pos, line) in enumerate(f):
        cur_val = int(line)
        acc[pos % 3] = cur_val

        if pos < 2:
            # print(l.strip())
            continue

        cur_sum = sum(acc)
        if prev > 0 and cur_sum > prev:
            num += 1
        prev = cur_sum

print("Task 2 =", num)


# Task 1
with open("./Day_02/input.txt") as f:
    x, y = 0, 0
    for line in f:
        dir, val = line.split()
        cur_val = int(val)
        if dir == "forward":
            x += cur_val
        elif dir == "down":
            y += cur_val
        else:
            y -= cur_val
print("Task 1 =", x * y)

# Task 2
with open("./Day_02/input.txt") as f:
    x, y = 0, 0
    aim = 0
    for line in f:
        dir, val = line.split()
        cur_val = int(val)
        if dir == "forward":
            x += cur_val
            y += aim * cur_val
        elif dir == "down":
            aim += cur_val
        else:
            aim -= cur_val

print("Task 2 =", x * y)


# Task 1
with open("./Day_03/input.txt") as f:
    a = [0] * 12
    for line in f:
        for pos, c in enumerate(line.strip()):
            a[pos] += 1 if c == "1" else -1

    res_dig, res2 = "", ""
    for x in a:
        res_dig += "1" if x > 0 else "0"
        res2 += "0" "1" if x > 0 else "1"

print("Task 1 =", int(res_dig, 2) * int(res2, 2))

# Task 2
with open("./Day_03/input.txt") as f:
    lll = [line.strip() for line in f]
    ll = lll[:]

    for pos in range(len(ll[0])):
        counter = 0
        d1, d0 = [], []
        for s in ll:
            key = 1 if s[pos] == "1" else -1
            counter += key
            if key == 1:
                d1.append(s)
            else:
                d0.append(s)

        ll = d1 if counter >= 0 else d0
        if len(ll) == 1:
            break

    oxy = int(ll[0], 2)

    ll = lll[:]
    for pos in range(len(ll[0])):
        counter = 0
        d1, d0 = [], []
        for s in ll:
            key = 1 if s[pos] == "1" else -1
            counter += key
            if key == 1:
                d1.append(s)
            else:
                d0.append(s)

        ll = d0 if counter >= 0 else d1
        if len(ll) == 1:
            break

    co2 = int(ll[0], 2)

print("Task 2 =", oxy * co2)


# Task 1
nums = []
cards = []
n = -1
nums_dict = {}

with open("./Day_04/input.txt") as f:
    for pos, line in enumerate(f):
        if pos == 0:
            nums = [int(d) for d in line.split(",")]
        else:
            if not line.strip():
                n += 1
                cards.append([])
            else:
                line_card = []
                num_line = len(cards[n])
                for col, dd in ((j, int(d)) for (j, d) in enumerate(line.split())):
                    line_card.append(dd)
                    if dd not in nums_dict:
                        nums_dict[dd] = []
                    nums_dict[dd].append((n, num_line, col))
                cards[n].append(line_card)

sum_all_others = -1
for n in nums:
    if n not in nums_dict:
        continue
    for (idx_card, idx_line, idx_col) in nums_dict[n]:
        card = cards[idx_card]
        line = card[idx_line]
        line[idx_col] = -1
        col = [line[idx_col] for line in card]

        if sum(line) == -5 or sum(col) == -5:
            sum_all_others = 0
            for line in card:
                for val in line:
                    if val > -1:
                        sum_all_others += val
            print("Task 1 =", sum_all_others * n)
            break

    if sum_all_others > -1:
        break


# Task 2
nums = []
cards = []
n = -1
nums_dict = {}

with open("./Day_04/input.txt") as f:
    for pos, line in enumerate(f):
        if pos == 0:
            nums = [int(d) for d in line.split(",")]
        else:
            if not line.strip():
                n += 1
                cards.append([])
            else:
                line_card = []
                num_line = len(cards[n])
                for col, dd in ((j, int(d)) for (j, d) in enumerate(line.split())):
                    line_card.append(dd)
                    if dd not in nums_dict:
                        nums_dict[dd] = []
                    nums_dict[dd].append((n, num_line, col))
                cards[n].append(line_card)

cards_win = [False] * len(cards)
sum_all_others = -1

for n in nums:
    if n not in nums_dict:
        continue

    for (idx_card, idx_line, idx_col) in nums_dict[n]:
        card = cards[idx_card]
        line = card[idx_line]
        line[idx_col] = -1
        col = [line_card[idx_col] for line_card in card]

        if sum(line) == -5 or sum(col) == -5:
            cards_win[idx_card] = True
            if not all(cards_win):
                continue

            sum_all_others = 0
            for line in card:
                for val in line:
                    if val > -1:
                        sum_all_others += val
            print("Task 1 =", sum_all_others * n)
            break

    if sum_all_others > -1:
        break


# Task 1
d = defaultdict(int)

with open("./Day_05/input.txt") as f:
    for line in f:
        x1, y1, x2, y2 = [
            int(d) for d in re.findall(r"(\d+),(\d+) -> (\d+),(\d+)", line.strip())[0]
        ]
        if x1 == x2:
            for y in range(min(y1, y2), max(y1, y2) + 1):
                d[(x1, y)] += 1
        elif y1 == y2:
            for x in range(min(x1, x2), max(x1, x2) + 1):
                d[(x, y1)] += 1

print("Task 1 =", sum(1 for val in d.values() if val > 1))


# Task 2
d = defaultdict(int)

with open("./Day_05/input.txt") as f:
    for line in f:
        x1, y1, x2, y2 = [
            int(d) for d in re.findall(r"(\d+),(\d+) -> (\d+),(\d+)", line.strip())[0]
        ]
        if x1 == x2:
            for y in range(min(y1, y2), max(y1, y2) + 1):
                d[(x1, y)] += 1
        elif y1 == y2:
            for x in range(min(x1, x2), max(x1, x2) + 1):
                d[(x, y1)] += 1
        elif y1 - x1 == y2 - x2:
            start_x = min(x1, x2)
            start_y = min(y1, y2)
            for pos in range(abs(x2 - x1) + 1):
                d[(start_x + pos, start_y + pos)] += 1
        elif y1 + x1 == x2 + y2:
            start_x = min(x1, x2)
            start_y = max(y1, y2)
            for pos in range(abs(x2 - x1) + 1):
                d[(start_x + pos, start_y - pos)] += 1

print("Task 2 =", sum(1 for val in d.values() if val > 1))


# Task 1
with open("./Day_06/input.txt") as f:
    for line in f:
        ll = [int(d) for d in line.split(",")]

acc = defaultdict(int)

for v in ll:
    acc[v + 1] += 1

res_dig = len(ll)

for day in range(257):
    if day not in acc:
        continue
    new = acc[day]
    res_dig += new
    acc[day + 7] += new
    acc[day + 9] += new

    if day == 80:
        print("Task 1 =", res_dig)

print("Task 2 =", res_dig)


# Task 1
with open("./Day_07/input.txt") as f:
    for line in f:
        ll = [int(d) for d in line.split(",")]

ll.sort()
min_sum = 0
for pos in range(min(ll), max(ll) + 1):
    new_sum = sum(abs(x - pos) for x in ll)
    if min_sum == 0 or new_sum < min_sum:
        min_sum = new_sum
    else:
        break

print("Task 1 =", min_sum)


# Task 2
with open("./Day_07/input.txt") as f:
    for line in f:
        ll = [int(d) for d in line.split(",")]

ll.sort()

min_sum = 0
max_val = max(ll)
min_val = min(ll)

acc = list(accumulate(range(max_val - min_val + 1)))

for pos in range(min_val, max_val + 1):
    new_sum = sum(acc[abs(x - pos)] for x in ll)
    if min_sum == 0 or new_sum < min_sum:
        min_sum = new_sum
    else:
        break

print("Task 2 =", min_sum)


# Task 1
acc = defaultdict(int)

with open("./Day_08/input.txt") as f:
    for line in f:
        _, dig = line.split(" | ")
        for code in dig.split():
            acc[len(code)] += 1

print("Task 1 =", acc[2] + acc[4] + acc[3] + acc[7])


# Task 2
res_sum = 0

with open("./Day_08/input.txt") as f:
    for line in f:

        digs_dict = {}
        acc = defaultdict(list)

        uniq, out = line.split(" | ")

        for dd in uniq.split():
            acc[len(dd)].append(frozenset(dd))

        # 1
        dig_1 = acc[2][0]
        digs_dict[dig_1] = 1

        # 4
        dig_4 = acc[4][0]
        digs_dict[dig_4] = 4

        # 7
        digs_dict[acc[3][0]] = 7

        # 8
        digs_dict[acc[7][0]] = 8

        # 6 9 0
        for val in acc[6]:
            if len(val & dig_1) == 1:
                digs_dict[val] = 6

            elif len(val & dig_4) == 4:
                dig_9 = val
                digs_dict[dig_9] = 9

            else:
                digs_dict[val] = 0

        # 2 3 5
        for val in acc[5]:
            if len(val & dig_1) == 2:
                digs_dict[val] = 3

            elif len(val & dig_9) == 5:
                digs_dict[val] = 5

            else:
                digs_dict[val] = 2

        res_dig = 0
        for dd in out.split():
            res_dig *= 10
            res_dig += digs_dict[frozenset(dd)]

        res_sum += res_dig

print("Task 2 =", res_sum)


# Task 1
grid = []

with open("./Day_09/input.txt") as f:
    for line in f:
        grid.append([int(d) for d in line.strip()])

    res = 0
    m, n = len(grid), len(grid[0])
    dirs = [(-1, 0), (1, 0), (0, -1), (0, 1)]

    for i, line in enumerate(grid):
        for j, val in enumerate(line):
            locations = []
            for di, dj in dirs:
                new_i, new_j = i + di, j + dj
                if 0 <= new_i <= m - 1 and 0 <= new_j <= n - 1:
                    locations.append(grid[new_i][new_j])

            if val < min(locations):
                res += val + 1

print("Task 1 =", res)


# Task 2
grid = []

with open("./Day_09/input.txt") as f:
    for line in f:
        grid.append([int(d) for d in line.strip()])

    dirs = [(-1, 0), (1, 0), (0, -1), (0, 1)]
    points = set()

    m, n = len(grid), len(grid[0])
    for i, line in enumerate(grid):
        for j, val in enumerate(line):
            locations = []
            for di, dj in dirs:
                new_i, new_j = i + di, j + dj
                if 0 <= new_i <= m - 1 and 0 <= new_j <= n - 1:
                    locations.append(grid[new_i][new_j])

            if val < min(locations):
                points.add((i, j))

    basins = []
    for (i, j) in points:
        basin_size = 0
        visited = set()
        stack = [(grid[i][j], i, j)]

        while stack:
            val, ii, jj = stack.pop()
            if (ii, jj) in visited:
                continue

            visited.add((ii, jj))
            basin_size += 1

            for di, dj in dirs:
                new_i, new_j = ii + di, jj + dj
                if (
                    0 <= new_i <= m - 1
                    and 0 <= new_j <= n - 1
                    and (new_i, new_j) not in visited
                ):
                    new_val = grid[new_i][new_j]
                    if val < new_val < 9:
                        stack.append((new_val, new_i, new_j))

        basins.append(basin_size)

basins.sort()
result = reduce(mul, basins[-3:])
print("Task 2 =", result)


# Task 1
pairs = {"{": "}", "(": ")", "[": "]", "<": ">"}
points = {")": 3, "]": 57, "}": 1197, ">": 25137}

res = 0
with open("./Day_10/input.txt") as f:
    for line in f:
        stack = []
        for c in line.strip():
            if c in "([{<":
                stack.append(c)
            elif stack and pairs[stack[-1]] == c:
                stack.pop()
            else:
                res += points[c]
                break

print("Task 1 =", res)


# Task 2
pairs = {"{": "}", "(": ")", "[": "]", "<": ">"}
points = {"(": 1, "[": 2, "{": 3, "<": 4}

scores = []
with open("./Day_10/input.txt") as f:
    for line in f:
        stack = []
        for c in line.strip():
            if c in "([{<":
                stack.append(c)
            elif stack and pairs[stack[-1]] == c:
                stack.pop()
            else:
                break
        else:
            res = 0
            while stack:
                res = 5 * res + points[stack.pop()]
            scores.append(res)

scores.sort()
print("Task 2 =", scores[len(scores) // 2])


# Task 1/2
def increase_power(res):
    if (i, j) in flash_set:
        return res

    grid[i][j] += 1
    if grid[i][j] == 10:

        grid[i][j] = 0
        flash_set.add((i, j))
        res += 1

        for di, dj in dirs:
            new_i, new_j = i + di, j + dj
            if 0 <= new_i <= 9 and 0 <= new_j <= 9:
                flash_stack.append((new_i, new_j))
    return res


grid = []
with open("./Day_11/input.txt") as f:
    for line in f:
        grid.append([int(d) for d in line.strip()])

res = 0
step = 0
dirs = [(0, 1), (0, -1), (1, 0), (-1, 0), (1, 1), (-1, 1), (-1, -1), (1, -1)]

while True:
    step += 1
    flash_set = set()
    flash_stack = []

    for i, line in enumerate(grid):
        for j, val in enumerate(line):
            res = increase_power(res)

    while flash_stack:
        (i, j) = flash_stack.pop()
        res = increase_power(res)

    if step == 100:
        print("Task 1 =", res)

    if len(flash_set) == 100:
        break

print("Task 2 =", step)


# Task 1
nodes = defaultdict(list)

with open("./Day_12/input.txt") as f:
    for line in f:
        node_1, node_2 = line.strip().split("-")
        if node_1 != "end" and node_2 != "start":
            nodes[node_1].append(node_2)
        if node_2 != "end" and node_1 != "start":
            nodes[node_2].append(node_1)

res = 0
stack_ways = []
for node in nodes["start"]:
    stack_ways.append((node, [node]))

while stack_ways:
    node, way = stack_ways.pop()
    if node == "end":
        res += 1
        continue

    for next_node in nodes[node]:
        if next_node != "end" and next_node[0].islower() and next_node in way:
            continue
        next_way = way[:] + [next_node]
        stack_ways.append((next_node, next_way))

print("Task 1 =", res)


# Task 2
nodes = defaultdict(list)

with open("./Day_12/input.txt") as f:
    for line in f:
        node_1, node_2 = line.strip().split("-")
        if node_1 != "end" and node_2 != "start":
            nodes[node_1].append(node_2)
        if node_2 != "end" and node_1 != "start":
            nodes[node_2].append(node_1)

res = 0
stack_ways = []
for node in nodes["start"]:
    stack_ways.append((node, [node], False))

while stack_ways:
    node, way, small_twice = stack_ways.pop()
    if node == "end":
        res += 1
        continue

    for next_node in nodes[node]:
        count_node = way.count(next_node)
        small_cave = next_node != "end" and next_node[0].islower()

        if small_cave and (count_node == 2 or count_node == 1 and small_twice):
            continue

        next_way = way + [next_node]
        next_twice = small_twice or (small_cave and count_node == 1)
        stack_ways.append((next_node, next_way, next_twice))

print("Task 2 =", res)


# Task 1
points = set()
folds = []

with open("./Day_13/input.txt") as f:
    for line in f:
        line = line.strip()
        if not line:
            continue

        if line[0].isdigit():
            x, y = line.split(",")
            points.add((int(x), int(y)))
        else:
            *other, coord, val = re.split(r"[ =]", line)
            folds.append((coord, int(val)))

points_to_del = []
points_to_add = []
for coord, val in folds[:1]:
    for x, y in points:
        if coord == "x":
            if x > val:
                new_x = val - (x - val)
                points_to_add.append((new_x, y))
                points_to_del.append((x, y))
        else:
            if y > val:
                new_y = val - (y - val)
                points_to_add.append((x, new_y))
                points_to_del.append((x, y))

points.difference_update(points_to_del)
points.update(points_to_add)

print("Task 1 =", len(points))


# Task 2
points = set()
folds = []

with open("./Day_13/input.txt") as f:
    for line in f:
        line = line.strip()
        if not line:
            continue

        if line[0].isdigit():
            x, y = line.split(",")
            points.add((int(x), int(y)))
        else:
            *other, coord, val = re.split(r"[ =]", line)
            folds.append((coord, int(val)))

for coord, val in folds:
    points_to_del = []
    points_to_add = []

    for x, y in points:
        if coord == "x":
            if x > val:
                new_x = val - (x - val)
                points_to_add.append((new_x, y))
                points_to_del.append((x, y))
        else:
            if y > val:
                new_y = val - (y - val)
                points_to_add.append((x, new_y))
                points_to_del.append((x, y))

    points.difference_update(points_to_del)
    points.update(points_to_add)

grid = [["#" if (x, y) in points else "." for x in range(40)] for y in range(6)]
for line in grid:
    print("".join(line))


# Task 1
pairs = {}
polymer = []

with open("./Day_14/input.txt") as f:
    for i, line in enumerate(f):
        line = line.strip()
        if i == 0:
            polymer = list(line)
        elif i > 1:
            pair, val = line.split(" -> ")
            pairs[pair] = val

for _ in range(10):
    triples = [polymer[0]]
    for a, b in zip(polymer, polymer[1:]):
        triples.append(pairs[a + b])
        triples.append(b)
    polymer = triples

c = list(Counter(polymer).most_common())
print("Task 1 =", c[0][1] - c[-1][1])


# Task 2
# Main idea from aka_npou (https://github.com/aka-npou)

pairs = {}
polymer_pairs = defaultdict(int)
counter = defaultdict(int)

with open("./Day_14/input.txt") as f:
    for i, line in enumerate(f):
        line = line.strip()
        if i == 0:
            for c in line:
                counter[c] += 1
            for a, b in zip(line, line[1:]):
                polymer_pairs[a + b] += 1
        elif i > 1:
            pair, val = line.split(" -> ")
            pairs[pair] = val

for _ in range(40):
    new_pairs = defaultdict(int)
    for pair, val in polymer_pairs.items():
        ins = pairs[pair]
        new_pairs[pair[0] + ins] += val
        new_pairs[ins + pair[1]] += val
        counter[ins] += val
    polymer_pairs = new_pairs

list_counter = sorted(counter.items(), key=lambda x: -x[1])
print("Task 2 =", list_counter[0][1] - list_counter[-1][1])


# Task 1
class Point:
    rows = 0
    cols = 0

    def __init__(self, r, c, val):
        self.r = r
        self.c = c
        self.val = val
        self.val_dist = val + (rows - r) + (cols - c)

    def __lt__(self, other):
        return self.val_dist < other.val_dist


grid = []
path = []

with open("./Day_15/input.txt") as f:
    for line in f:
        grid.append([int(c) for c in line.strip()])

dirs = [(-1, 0), (1, 0), (0, -1), (0, 1)]
rows, cols = len(grid), len(grid[0])
Point.rows = rows
Point.cols = cols

visited = [[False for _ in range(cols)] for _ in range(rows)]
path = [[float("inf") for _ in range(cols)] for _ in range(rows)]

heap = []
heappush(heap, Point(0, 0, 0))

while heap:
    p = heappop(heap)
    r, c, val = p.r, p.c, p.val

    if visited[r][c]:
        continue

    visited[r][c] = True
    path[r][c] = min(val, path[r][c])

    if r == rows - 1 and c == cols - 1:
        break

    for dr, dc in dirs:
        new_r = r + dr
        new_c = c + dc
        if 0 <= new_r < rows and 0 <= new_c < cols and not visited[new_r][new_c]:
            new_val = val + grid[new_r][new_c]
            heappush(heap, Point(new_r, new_c, new_val))

print("Task 1 =", path[-1][-1])


# Task 2
class Point:
    rows = 0
    cols = 0

    def __init__(self, r, c, val):
        self.r = r
        self.c = c
        self.val = val
        self.val_dist = val + (rows - r) + (cols - c)

    def __lt__(self, other):
        return self.val_dist < other.val_dist


# read map of small cave
grid_small = []
with open("./Day_15/input.txt") as f:
    for line in f:
        grid_small.append([int(c) for c in line.strip()])

# prepare full map of caves
k = 5
rows, cols = len(grid_small), len(grid_small[0])
grid = [[0 for _ in range(k * cols)] for _ in range(k * rows)]
for r in range(k * rows):
    for c in range(k * cols):
        new_val = grid_small[r % rows][c % cols] + r // rows + c // cols
        grid[r][c] = new_val if new_val <= 9 else new_val % 10 + 1

rows *= k
cols *= k
Point.rows = rows
Point.cols = cols

dirs = [(-1, 0), (1, 0), (0, -1), (0, 1)]
visited = [[False for _ in range(cols)] for _ in range(rows)]
path = [[float("inf") for _ in range(cols)] for _ in range(rows)]

heap = []
heappush(heap, Point(0, 0, 0))

while heap:
    p = heappop(heap)
    r, c, val = p.r, p.c, p.val

    if visited[r][c]:
        continue

    visited[r][c] = True
    path[r][c] = min(val, path[r][c])

    if r == rows - 1 and c == cols - 1:
        break

    for dr, dc in dirs:
        new_r = r + dr
        new_c = c + dc
        if 0 <= new_r < rows and 0 <= new_c < cols and not visited[new_r][new_c]:
            new_val = val + grid[new_r][new_c]
            heappush(heap, Point(new_r, new_c, new_val))

print("Task 2 =", path[-1][-1])


def read_param(s, bits):
    param = int(s[:bits], 2)
    return param, s[bits:]


def main_read(s, num_pack):
    while num_pack and len(s) >= 11:
        s, type_id = read_ver_id(s)

        if type_id == 4:
            # literal value
            s = read_literal(s)
        else:
            # operator
            length_id, s = read_param(s, 1)

            if length_id == 0:
                # 15-bit number of bits
                len_bits, s = read_param(s, 15)

                main_read(s[:len_bits], num_pack)
                s = s[len_bits:]
            else:
                # 11-bit number of packets
                np, s = read_param(s, 11)
                s = main_read(s, num_pack)

        num_pack -= 1

    return s


def read_literal(s):
    lit = []
    read_next = 1
    while read_next:
        val, s = read_param(s, 5)
        lit.append(val & 0b1111)  # read 4-bit val
        read_next = val & 0b10000  # read start bit
    return s


def read_ver_id(s):
    ver, s = read_param(s, 3)
    type_id, s = read_param(s, 3)
    versions.append(ver)
    return s, type_id


with open("./Day_16/input.txt") as f:
    hex_string = f.readline().strip()
    bin_string = bin(int(hex_string, 16))[2:]

num_lead_zeros = 4 * len(hex_string) - len(bin_string)
if num_lead_zeros:
    bin_string = "0" * num_lead_zeros + bin_string

versions = []
main_read(bin_string, 999)
print("Task 1 =", sum(versions))

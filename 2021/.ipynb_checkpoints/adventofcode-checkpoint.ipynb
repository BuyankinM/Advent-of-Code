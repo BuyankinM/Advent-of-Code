{
 "cells": [
  {
   "cell_type": "code",
   "execution_count": 1,
   "id": "d56c97d3-cf8d-4cf7-91be-22525fb29834",
   "metadata": {
    "tags": []
   },
   "outputs": [],
   "source": [
    "import re\n",
    "from collections import Counter, defaultdict\n",
    "from functools import reduce\n",
    "from heapq import heappop, heappush\n",
    "from itertools import accumulate\n",
    "from operator import mul"
   ]
  },
  {
   "cell_type": "markdown",
   "id": "8cecec6a-839b-4769-995a-284c8d83d3b1",
   "metadata": {
    "jp-MarkdownHeadingCollapsed": true,
    "tags": []
   },
   "source": [
    "## Day 1.\n",
    "https://adventofcode.com/2021/day/1"
   ]
  },
  {
   "cell_type": "code",
   "execution_count": 2,
   "id": "08442a2e-cc12-4741-b68c-be7fefc85660",
   "metadata": {
    "tags": []
   },
   "outputs": [
    {
     "name": "stdout",
     "output_type": "stream",
     "text": [
      "Task 1 = 1676\n",
      "Task 2 = 1706\n"
     ]
    }
   ],
   "source": [
    "# Task 1\n",
    "with open(\"./Day_01/input.txt\") as f:\n",
    "    num = 0\n",
    "    prev = 0\n",
    "    for line in f:\n",
    "        cur_val = int(line)\n",
    "        if cur_val > prev and prev > 0:\n",
    "            num += 1\n",
    "        prev = cur_val\n",
    "\n",
    "print(\"Task 1 =\", num)\n",
    "\n",
    "# Task 2\n",
    "with open(\"./Day_01/input.txt\") as f:\n",
    "    num = 0\n",
    "    prev = 0\n",
    "    acc = [0] * 3\n",
    "\n",
    "    for (pos, line) in enumerate(f):\n",
    "        cur_val = int(line)\n",
    "        acc[pos % 3] = cur_val\n",
    "\n",
    "        if pos < 2:\n",
    "            # print(l.strip())\n",
    "            continue\n",
    "\n",
    "        cur_sum = sum(acc)\n",
    "        if prev > 0 and cur_sum > prev:\n",
    "            num += 1\n",
    "        prev = cur_sum\n",
    "\n",
    "print(\"Task 2 =\", num)"
   ]
  },
  {
   "cell_type": "markdown",
   "id": "c1453a84-2f4b-4b74-ae72-7a23c51e298d",
   "metadata": {
    "jp-MarkdownHeadingCollapsed": true,
    "tags": []
   },
   "source": [
    "## Day 2.\n",
    "https://adventofcode.com/2021/day/2"
   ]
  },
  {
   "cell_type": "code",
   "execution_count": 3,
   "id": "f0f3f98d-a08f-425f-b5df-804944410b6e",
   "metadata": {
    "tags": []
   },
   "outputs": [
    {
     "name": "stdout",
     "output_type": "stream",
     "text": [
      "Task 1 = 1635930\n",
      "Task 2 = 1781819478\n"
     ]
    }
   ],
   "source": [
    "# Task 1\n",
    "with open(\"./Day_02/input.txt\") as f:\n",
    "    x, y = 0, 0\n",
    "    for line in f:\n",
    "        dir, val = line.split()\n",
    "        cur_val = int(val)\n",
    "        if dir == \"forward\":\n",
    "            x += cur_val\n",
    "        elif dir == \"down\":\n",
    "            y += cur_val\n",
    "        else:\n",
    "            y -= cur_val\n",
    "print(\"Task 1 =\", x * y)\n",
    "\n",
    "# Task 2\n",
    "with open(\"./Day_02/input.txt\") as f:\n",
    "    x, y = 0, 0\n",
    "    aim = 0\n",
    "    for line in f:\n",
    "        dir, val = line.split()\n",
    "        cur_val = int(val)\n",
    "        if dir == \"forward\":\n",
    "            x += cur_val\n",
    "            y += aim * cur_val\n",
    "        elif dir == \"down\":\n",
    "            aim += cur_val\n",
    "        else:\n",
    "            aim -= cur_val\n",
    "\n",
    "print(\"Task 2 =\", x * y)"
   ]
  },
  {
   "cell_type": "markdown",
   "id": "e2742919-fec5-4248-8499-3aec12e208ef",
   "metadata": {
    "jp-MarkdownHeadingCollapsed": true,
    "tags": []
   },
   "source": [
    "## Day 3.\n",
    "https://adventofcode.com/2021/day/3"
   ]
  },
  {
   "cell_type": "code",
   "execution_count": 4,
   "id": "f6d0605d-2eb7-4cf9-9ce2-b56d964b9e75",
   "metadata": {
    "tags": []
   },
   "outputs": [
    {
     "name": "stdout",
     "output_type": "stream",
     "text": [
      "Task 1 = 655762309\n",
      "Task 2 = 1032597\n"
     ]
    }
   ],
   "source": [
    "# Task 1\n",
    "with open(\"./Day_03/input.txt\") as f:\n",
    "    a = [0] * 12\n",
    "    for line in f:\n",
    "        for pos, c in enumerate(line.strip()):\n",
    "            a[pos] += 1 if c == \"1\" else -1\n",
    "\n",
    "    res_dig, res2 = \"\", \"\"\n",
    "    for x in a:\n",
    "        res_dig += \"1\" if x > 0 else \"0\"\n",
    "        res2 += \"0\" \"1\" if x > 0 else \"1\"\n",
    "\n",
    "print(\"Task 1 =\", int(res_dig, 2) * int(res2, 2))\n",
    "\n",
    "# Task 2\n",
    "with open(\"./Day_03/input.txt\") as f:\n",
    "    lll = [line.strip() for line in f]\n",
    "    ll = lll[:]\n",
    "\n",
    "    for pos in range(len(ll[0])):\n",
    "        counter = 0\n",
    "        d1, d0 = [], []\n",
    "        for s in ll:\n",
    "            key = 1 if s[pos] == \"1\" else -1\n",
    "            counter += key\n",
    "            if key == 1:\n",
    "                d1.append(s)\n",
    "            else:\n",
    "                d0.append(s)\n",
    "\n",
    "        ll = d1 if counter >= 0 else d0\n",
    "        if len(ll) == 1:\n",
    "            break\n",
    "\n",
    "    oxy = int(ll[0], 2)\n",
    "\n",
    "    ll = lll[:]\n",
    "    for pos in range(len(ll[0])):\n",
    "        counter = 0\n",
    "        d1, d0 = [], []\n",
    "        for s in ll:\n",
    "            key = 1 if s[pos] == \"1\" else -1\n",
    "            counter += key\n",
    "            if key == 1:\n",
    "                d1.append(s)\n",
    "            else:\n",
    "                d0.append(s)\n",
    "\n",
    "        ll = d0 if counter >= 0 else d1\n",
    "        if len(ll) == 1:\n",
    "            break\n",
    "\n",
    "    co2 = int(ll[0], 2)\n",
    "\n",
    "print(\"Task 2 =\", oxy * co2)"
   ]
  },
  {
   "cell_type": "markdown",
   "id": "48ba93e6-8a29-41f4-b585-97220c9526b5",
   "metadata": {
    "jp-MarkdownHeadingCollapsed": true,
    "tags": []
   },
   "source": [
    "## Day 4.\n",
    "https://adventofcode.com/2021/day/4"
   ]
  },
  {
   "cell_type": "code",
   "execution_count": 5,
   "id": "92d89493-2cd1-49a1-ac40-c649b4e79143",
   "metadata": {
    "tags": []
   },
   "outputs": [
    {
     "name": "stdout",
     "output_type": "stream",
     "text": [
      "Task 1 = 25410\n"
     ]
    }
   ],
   "source": [
    "# Task 1\n",
    "nums = []\n",
    "cards = []\n",
    "n = -1\n",
    "nums_dict = {}\n",
    "\n",
    "with open(\"./Day_04/input.txt\") as f:\n",
    "    for pos, line in enumerate(f):\n",
    "        if pos == 0:\n",
    "            nums = [int(d) for d in line.split(\",\")]\n",
    "        else:\n",
    "            if not line.strip():\n",
    "                n += 1\n",
    "                cards.append([])\n",
    "            else:\n",
    "                line_card = []\n",
    "                num_line = len(cards[n])\n",
    "                for col, dd in ((j, int(d)) for (j, d) in enumerate(line.split())):\n",
    "                    line_card.append(dd)\n",
    "                    if dd not in nums_dict:\n",
    "                        nums_dict[dd] = []\n",
    "                    nums_dict[dd].append((n, num_line, col))\n",
    "                cards[n].append(line_card)\n",
    "\n",
    "sum_all_others = -1\n",
    "for n in nums:\n",
    "    if n not in nums_dict:\n",
    "        continue\n",
    "    for (idx_card, idx_line, idx_col) in nums_dict[n]:\n",
    "        card = cards[idx_card]\n",
    "        line = card[idx_line]\n",
    "        line[idx_col] = -1\n",
    "        col = [line[idx_col] for line in card]\n",
    "\n",
    "        if sum(line) == -5 or sum(col) == -5:\n",
    "            sum_all_others = 0\n",
    "            for line in card:\n",
    "                for val in line:\n",
    "                    if val > -1:\n",
    "                        sum_all_others += val\n",
    "            print(\"Task 1 =\", sum_all_others * n)\n",
    "            break\n",
    "\n",
    "    if sum_all_others > -1:\n",
    "        break"
   ]
  },
  {
   "cell_type": "code",
   "execution_count": 6,
   "id": "b6665ce5-288c-43d3-bb5a-8cb5deee0132",
   "metadata": {
    "tags": []
   },
   "outputs": [
    {
     "name": "stdout",
     "output_type": "stream",
     "text": [
      "Task 1 = 2730\n"
     ]
    }
   ],
   "source": [
    "# Task 2\n",
    "nums = []\n",
    "cards = []\n",
    "n = -1\n",
    "nums_dict = {}\n",
    "\n",
    "with open(\"./Day_04/input.txt\") as f:\n",
    "    for pos, line in enumerate(f):\n",
    "        if pos == 0:\n",
    "            nums = [int(d) for d in line.split(\",\")]\n",
    "        else:\n",
    "            if not line.strip():\n",
    "                n += 1\n",
    "                cards.append([])\n",
    "            else:\n",
    "                line_card = []\n",
    "                num_line = len(cards[n])\n",
    "                for col, dd in ((j, int(d)) for (j, d) in enumerate(line.split())):\n",
    "                    line_card.append(dd)\n",
    "                    if dd not in nums_dict:\n",
    "                        nums_dict[dd] = []\n",
    "                    nums_dict[dd].append((n, num_line, col))\n",
    "                cards[n].append(line_card)\n",
    "\n",
    "cards_win = [False] * len(cards)\n",
    "sum_all_others = -1\n",
    "\n",
    "for n in nums:\n",
    "    if n not in nums_dict:\n",
    "        continue\n",
    "\n",
    "    for (idx_card, idx_line, idx_col) in nums_dict[n]:\n",
    "        card = cards[idx_card]\n",
    "        line = card[idx_line]\n",
    "        line[idx_col] = -1\n",
    "        col = [line_card[idx_col] for line_card in card]\n",
    "\n",
    "        if sum(line) == -5 or sum(col) == -5:\n",
    "            cards_win[idx_card] = True\n",
    "            if not all(cards_win):\n",
    "                continue\n",
    "\n",
    "            sum_all_others = 0\n",
    "            for line in card:\n",
    "                for val in line:\n",
    "                    if val > -1:\n",
    "                        sum_all_others += val\n",
    "            print(\"Task 1 =\", sum_all_others * n)\n",
    "            break\n",
    "\n",
    "    if sum_all_others > -1:\n",
    "        break"
   ]
  },
  {
   "cell_type": "markdown",
   "id": "c577860a-67af-451a-b5a3-9ef5c7c7f3d3",
   "metadata": {
    "jp-MarkdownHeadingCollapsed": true,
    "tags": []
   },
   "source": [
    "## Day 5.\n",
    "https://adventofcode.com/2021/day/5"
   ]
  },
  {
   "cell_type": "code",
   "execution_count": 7,
   "id": "9e0326f6-3cfa-4cc8-bff5-89c413beb240",
   "metadata": {
    "tags": []
   },
   "outputs": [
    {
     "name": "stdout",
     "output_type": "stream",
     "text": [
      "Task 1 = 5167\n"
     ]
    }
   ],
   "source": [
    "# Task 1\n",
    "d = defaultdict(int)\n",
    "\n",
    "with open(\"./Day_05/input.txt\") as f:\n",
    "    for line in f:\n",
    "        x1, y1, x2, y2 = [\n",
    "            int(d) for d in re.findall(r\"(\\d+),(\\d+) -> (\\d+),(\\d+)\", line.strip())[0]\n",
    "        ]\n",
    "        if x1 == x2:\n",
    "            for y in range(min(y1, y2), max(y1, y2) + 1):\n",
    "                d[(x1, y)] += 1\n",
    "        elif y1 == y2:\n",
    "            for x in range(min(x1, x2), max(x1, x2) + 1):\n",
    "                d[(x, y1)] += 1\n",
    "\n",
    "print(\"Task 1 =\", sum(1 for val in d.values() if val > 1))"
   ]
  },
  {
   "cell_type": "code",
   "execution_count": 8,
   "id": "c894e214-a12e-45cf-b90a-cb409b84c318",
   "metadata": {
    "tags": []
   },
   "outputs": [
    {
     "name": "stdout",
     "output_type": "stream",
     "text": [
      "Task 2 = 17604\n"
     ]
    }
   ],
   "source": [
    "# Task 2\n",
    "d = defaultdict(int)\n",
    "\n",
    "with open(\"./Day_05/input.txt\") as f:\n",
    "    for line in f:\n",
    "        x1, y1, x2, y2 = [\n",
    "            int(d) for d in re.findall(r\"(\\d+),(\\d+) -> (\\d+),(\\d+)\", line.strip())[0]\n",
    "        ]\n",
    "        if x1 == x2:\n",
    "            for y in range(min(y1, y2), max(y1, y2) + 1):\n",
    "                d[(x1, y)] += 1\n",
    "        elif y1 == y2:\n",
    "            for x in range(min(x1, x2), max(x1, x2) + 1):\n",
    "                d[(x, y1)] += 1\n",
    "        elif y1 - x1 == y2 - x2:\n",
    "            start_x = min(x1, x2)\n",
    "            start_y = min(y1, y2)\n",
    "            for pos in range(abs(x2 - x1) + 1):\n",
    "                d[(start_x + pos, start_y + pos)] += 1\n",
    "        elif y1 + x1 == x2 + y2:\n",
    "            start_x = min(x1, x2)\n",
    "            start_y = max(y1, y2)\n",
    "            for pos in range(abs(x2 - x1) + 1):\n",
    "                d[(start_x + pos, start_y - pos)] += 1\n",
    "\n",
    "print(\"Task 2 =\", sum(1 for val in d.values() if val > 1))"
   ]
  },
  {
   "cell_type": "markdown",
   "id": "7976ffce-ff74-4267-9f12-6b648bc5171f",
   "metadata": {
    "jp-MarkdownHeadingCollapsed": true,
    "tags": []
   },
   "source": [
    "## Day 6.\n",
    "https://adventofcode.com/2021/day/6"
   ]
  },
  {
   "cell_type": "code",
   "execution_count": 9,
   "id": "555bd478-3d00-415a-8dc0-3b13074e9d6b",
   "metadata": {
    "tags": []
   },
   "outputs": [
    {
     "name": "stdout",
     "output_type": "stream",
     "text": [
      "Task 1 = 356190\n",
      "Task 2 = 1617359101538\n"
     ]
    }
   ],
   "source": [
    "# Task 1\n",
    "with open(\"./Day_06/input.txt\") as f:\n",
    "    for line in f:\n",
    "        ll = [int(d) for d in line.split(\",\")]\n",
    "\n",
    "acc = defaultdict(int)\n",
    "\n",
    "for v in ll:\n",
    "    acc[v + 1] += 1\n",
    "\n",
    "res_dig = len(ll)\n",
    "\n",
    "for day in range(257):\n",
    "    if day not in acc:\n",
    "        continue\n",
    "    new = acc[day]\n",
    "    res_dig += new\n",
    "    acc[day + 7] += new\n",
    "    acc[day + 9] += new\n",
    "\n",
    "    if day == 80:\n",
    "        print(\"Task 1 =\", res_dig)\n",
    "\n",
    "print(\"Task 2 =\", res_dig)"
   ]
  },
  {
   "cell_type": "markdown",
   "id": "51d625af-2049-44ec-aed9-b467591d9677",
   "metadata": {
    "jp-MarkdownHeadingCollapsed": true,
    "tags": []
   },
   "source": [
    "## Day 7.\n",
    "https://adventofcode.com/2021/day/7"
   ]
  },
  {
   "cell_type": "code",
   "execution_count": 10,
   "id": "db277c18-1656-4bc5-a5e4-b784865b7587",
   "metadata": {
    "tags": []
   },
   "outputs": [
    {
     "name": "stdout",
     "output_type": "stream",
     "text": [
      "Task 1 = 345035\n"
     ]
    }
   ],
   "source": [
    "# Task 1\n",
    "with open(\"./Day_07/input.txt\") as f:\n",
    "    for line in f:\n",
    "        ll = [int(d) for d in line.split(\",\")]\n",
    "\n",
    "ll.sort()\n",
    "min_sum = 0\n",
    "for pos in range(min(ll), max(ll) + 1):\n",
    "    new_sum = sum(abs(x - pos) for x in ll)\n",
    "    if min_sum == 0 or new_sum < min_sum:\n",
    "        min_sum = new_sum\n",
    "    else:\n",
    "        break\n",
    "\n",
    "print(\"Task 1 =\", min_sum)"
   ]
  },
  {
   "cell_type": "code",
   "execution_count": 11,
   "id": "63d160e0-66e4-4f81-b52d-9205fbfc0c7c",
   "metadata": {
    "tags": []
   },
   "outputs": [
    {
     "name": "stdout",
     "output_type": "stream",
     "text": [
      "Task 2 = 97038163\n"
     ]
    }
   ],
   "source": [
    "# Task 2\n",
    "with open(\"./Day_07/input.txt\") as f:\n",
    "    for line in f:\n",
    "        ll = [int(d) for d in line.split(\",\")]\n",
    "\n",
    "ll.sort()\n",
    "\n",
    "min_sum = 0\n",
    "max_val = max(ll)\n",
    "min_val = min(ll)\n",
    "\n",
    "acc = list(accumulate(range(max_val - min_val + 1)))\n",
    "\n",
    "for pos in range(min_val, max_val + 1):\n",
    "    new_sum = sum(acc[abs(x - pos)] for x in ll)\n",
    "    if min_sum == 0 or new_sum < min_sum:\n",
    "        min_sum = new_sum\n",
    "    else:\n",
    "        break\n",
    "\n",
    "print(\"Task 2 =\", min_sum)"
   ]
  },
  {
   "cell_type": "markdown",
   "id": "374a44bd-7e08-453b-955e-90c8db8f0a90",
   "metadata": {
    "jp-MarkdownHeadingCollapsed": true,
    "tags": []
   },
   "source": [
    "## Day 8.\n",
    "https://adventofcode.com/2021/day/8"
   ]
  },
  {
   "cell_type": "code",
   "execution_count": 12,
   "id": "78ba8a17-74ce-42c4-8691-c9ea8db0f204",
   "metadata": {
    "tags": []
   },
   "outputs": [
    {
     "name": "stdout",
     "output_type": "stream",
     "text": [
      "Task 1 = 421\n"
     ]
    }
   ],
   "source": [
    "# Task 1\n",
    "acc = defaultdict(int)\n",
    "\n",
    "with open(\"./Day_08/input.txt\") as f:\n",
    "    for line in f:\n",
    "        _, dig = line.split(\" | \")\n",
    "        for code in dig.split():\n",
    "            acc[len(code)] += 1\n",
    "\n",
    "print(\"Task 1 =\", acc[2] + acc[4] + acc[3] + acc[7])"
   ]
  },
  {
   "cell_type": "code",
   "execution_count": 13,
   "id": "01c0de94-f53d-4b30-aa81-0259cf04292c",
   "metadata": {
    "tags": []
   },
   "outputs": [
    {
     "name": "stdout",
     "output_type": "stream",
     "text": [
      "Task 2 = 986163\n"
     ]
    }
   ],
   "source": [
    "# Task 2\n",
    "res_sum = 0\n",
    "\n",
    "with open(\"./Day_08/input.txt\") as f:\n",
    "    for line in f:\n",
    "\n",
    "        digs_dict = {}\n",
    "        acc = defaultdict(list)\n",
    "\n",
    "        uniq, out = line.split(\" | \")\n",
    "\n",
    "        for dd in uniq.split():\n",
    "            acc[len(dd)].append(frozenset(dd))\n",
    "\n",
    "        # 1\n",
    "        dig_1 = acc[2][0]\n",
    "        digs_dict[dig_1] = 1\n",
    "\n",
    "        # 4\n",
    "        dig_4 = acc[4][0]\n",
    "        digs_dict[dig_4] = 4\n",
    "\n",
    "        # 7\n",
    "        digs_dict[acc[3][0]] = 7\n",
    "\n",
    "        # 8\n",
    "        digs_dict[acc[7][0]] = 8\n",
    "\n",
    "        # 6 9 0\n",
    "        for val in acc[6]:\n",
    "            if len(val & dig_1) == 1:\n",
    "                digs_dict[val] = 6\n",
    "\n",
    "            elif len(val & dig_4) == 4:\n",
    "                dig_9 = val\n",
    "                digs_dict[dig_9] = 9\n",
    "\n",
    "            else:\n",
    "                digs_dict[val] = 0\n",
    "\n",
    "        # 2 3 5\n",
    "        for val in acc[5]:\n",
    "            if len(val & dig_1) == 2:\n",
    "                digs_dict[val] = 3\n",
    "\n",
    "            elif len(val & dig_9) == 5:\n",
    "                digs_dict[val] = 5\n",
    "\n",
    "            else:\n",
    "                digs_dict[val] = 2\n",
    "\n",
    "        res_dig = 0\n",
    "        for dd in out.split():\n",
    "            res_dig *= 10\n",
    "            res_dig += digs_dict[frozenset(dd)]\n",
    "\n",
    "        res_sum += res_dig\n",
    "\n",
    "print(\"Task 2 =\", res_sum)"
   ]
  },
  {
   "cell_type": "markdown",
   "id": "795923fc-055e-4f6d-976e-b9aad8b90b4f",
   "metadata": {
    "jp-MarkdownHeadingCollapsed": true,
    "tags": []
   },
   "source": [
    "## Day 9.\n",
    "https://adventofcode.com/2021/day/9"
   ]
  },
  {
   "cell_type": "code",
   "execution_count": 14,
   "id": "273c8873-9d38-4db8-895b-480945e2b516",
   "metadata": {},
   "outputs": [
    {
     "name": "stdout",
     "output_type": "stream",
     "text": [
      "Task 1 = 456\n"
     ]
    }
   ],
   "source": [
    "# Task 1\n",
    "grid = []\n",
    "\n",
    "with open(\"./Day_09/input.txt\") as f:\n",
    "    for line in f:\n",
    "        grid.append([int(d) for d in line.strip()])\n",
    "\n",
    "    res = 0\n",
    "    m, n = len(grid), len(grid[0])\n",
    "    dirs = [(-1, 0), (1, 0), (0, -1), (0, 1)]\n",
    "\n",
    "    for i, line in enumerate(grid):\n",
    "        for j, val in enumerate(line):\n",
    "            locations = []\n",
    "            for di, dj in dirs:\n",
    "                new_i, new_j = i + di, j + dj\n",
    "                if 0 <= new_i <= m - 1 and 0 <= new_j <= n - 1:\n",
    "                    locations.append(grid[new_i][new_j])\n",
    "\n",
    "            if val < min(locations):\n",
    "                res += val + 1\n",
    "\n",
    "print(\"Task 1 =\", res)"
   ]
  },
  {
   "cell_type": "code",
   "execution_count": 15,
   "id": "3eb9bca0-2390-473d-9a30-1b25b198dcdb",
   "metadata": {},
   "outputs": [
    {
     "name": "stdout",
     "output_type": "stream",
     "text": [
      "Task 2 = 1047744\n"
     ]
    }
   ],
   "source": [
    "# Task 2\n",
    "grid = []\n",
    "\n",
    "with open(\"./Day_09/input.txt\") as f:\n",
    "    for line in f:\n",
    "        grid.append([int(d) for d in line.strip()])\n",
    "\n",
    "    dirs = [(-1, 0), (1, 0), (0, -1), (0, 1)]\n",
    "    points = set()\n",
    "\n",
    "    m, n = len(grid), len(grid[0])\n",
    "    for i, line in enumerate(grid):\n",
    "        for j, val in enumerate(line):\n",
    "            locations = []\n",
    "            for di, dj in dirs:\n",
    "                new_i, new_j = i + di, j + dj\n",
    "                if 0 <= new_i <= m - 1 and 0 <= new_j <= n - 1:\n",
    "                    locations.append(grid[new_i][new_j])\n",
    "\n",
    "            if val < min(locations):\n",
    "                points.add((i, j))\n",
    "\n",
    "    basins = []\n",
    "    for (i, j) in points:\n",
    "        basin_size = 0\n",
    "        visited = set()\n",
    "        stack = [(grid[i][j], i, j)]\n",
    "\n",
    "        while stack:\n",
    "            val, ii, jj = stack.pop()\n",
    "            if (ii, jj) in visited:\n",
    "                continue\n",
    "\n",
    "            visited.add((ii, jj))\n",
    "            basin_size += 1\n",
    "\n",
    "            for di, dj in dirs:\n",
    "                new_i, new_j = ii + di, jj + dj\n",
    "                if (\n",
    "                    0 <= new_i <= m - 1\n",
    "                    and 0 <= new_j <= n - 1\n",
    "                    and (new_i, new_j) not in visited\n",
    "                ):\n",
    "                    new_val = grid[new_i][new_j]\n",
    "                    if val < new_val < 9:\n",
    "                        stack.append((new_val, new_i, new_j))\n",
    "\n",
    "        basins.append(basin_size)\n",
    "\n",
    "basins.sort()\n",
    "result = reduce(mul, basins[-3:])\n",
    "print(\"Task 2 =\", result)"
   ]
  },
  {
   "cell_type": "markdown",
   "id": "92c0a439-33a5-4619-ab34-4fac381e31f5",
   "metadata": {
    "jp-MarkdownHeadingCollapsed": true,
    "tags": []
   },
   "source": [
    "## Day 10.\n",
    "https://adventofcode.com/2021/day/10"
   ]
  },
  {
   "cell_type": "code",
   "execution_count": 16,
   "id": "36ecf0d2-3591-4853-8bc9-3910ad9930ec",
   "metadata": {},
   "outputs": [
    {
     "name": "stdout",
     "output_type": "stream",
     "text": [
      "Task 1 = 343863\n"
     ]
    }
   ],
   "source": [
    "# Task 1\n",
    "pairs = {\"{\": \"}\", \"(\": \")\", \"[\": \"]\", \"<\": \">\"}\n",
    "points = {\")\": 3, \"]\": 57, \"}\": 1197, \">\": 25137}\n",
    "\n",
    "res = 0\n",
    "with open(\"./Day_10/input.txt\") as f:\n",
    "    for line in f:\n",
    "        stack = []\n",
    "        for c in line.strip():\n",
    "            if c in \"([{<\":\n",
    "                stack.append(c)\n",
    "            elif stack and pairs[stack[-1]] == c:\n",
    "                stack.pop()\n",
    "            else:\n",
    "                res += points[c]\n",
    "                break\n",
    "\n",
    "print(\"Task 1 =\", res)"
   ]
  },
  {
   "cell_type": "code",
   "execution_count": 17,
   "id": "9f7c1a4b-2416-49e6-9cfd-dfab3c6300ad",
   "metadata": {},
   "outputs": [
    {
     "name": "stdout",
     "output_type": "stream",
     "text": [
      "Task 2 = 2924734236\n"
     ]
    }
   ],
   "source": [
    "# Task 2\n",
    "pairs = {\"{\": \"}\", \"(\": \")\", \"[\": \"]\", \"<\": \">\"}\n",
    "points = {\"(\": 1, \"[\": 2, \"{\": 3, \"<\": 4}\n",
    "\n",
    "scores = []\n",
    "with open(\"./Day_10/input.txt\") as f:\n",
    "    for line in f:\n",
    "        stack = []\n",
    "        for c in line.strip():\n",
    "            if c in \"([{<\":\n",
    "                stack.append(c)\n",
    "            elif stack and pairs[stack[-1]] == c:\n",
    "                stack.pop()\n",
    "            else:\n",
    "                break\n",
    "        else:\n",
    "            res = 0\n",
    "            while stack:\n",
    "                res = 5 * res + points[stack.pop()]\n",
    "            scores.append(res)\n",
    "\n",
    "scores.sort()\n",
    "print(\"Task 2 =\", scores[len(scores) // 2])"
   ]
  },
  {
   "cell_type": "markdown",
   "id": "fc15513d-f4a4-4aed-93b1-28e8297f26a6",
   "metadata": {
    "jp-MarkdownHeadingCollapsed": true,
    "tags": []
   },
   "source": [
    "## Day 11.\n",
    "https://adventofcode.com/2021/day/11"
   ]
  },
  {
   "cell_type": "code",
   "execution_count": 18,
   "id": "112695f3-d50e-47e5-9a9a-cf1ac5a45468",
   "metadata": {},
   "outputs": [
    {
     "name": "stdout",
     "output_type": "stream",
     "text": [
      "Task 1 = 1562\n",
      "Task 2 = 268\n"
     ]
    }
   ],
   "source": [
    "# Task 1/2\n",
    "def increase_power(res):\n",
    "    if (i, j) in flash_set:\n",
    "        return res\n",
    "\n",
    "    grid[i][j] += 1\n",
    "    if grid[i][j] == 10:\n",
    "\n",
    "        grid[i][j] = 0\n",
    "        flash_set.add((i, j))\n",
    "        res += 1\n",
    "\n",
    "        for di, dj in dirs:\n",
    "            new_i, new_j = i + di, j + dj\n",
    "            if 0 <= new_i <= 9 and 0 <= new_j <= 9:\n",
    "                flash_stack.append((new_i, new_j))\n",
    "    return res\n",
    "\n",
    "\n",
    "grid = []\n",
    "with open(\"./Day_11/input.txt\") as f:\n",
    "    for line in f:\n",
    "        grid.append([int(d) for d in line.strip()])\n",
    "\n",
    "res = 0\n",
    "step = 0\n",
    "dirs = [(0, 1), (0, -1), (1, 0), (-1, 0), (1, 1), (-1, 1), (-1, -1), (1, -1)]\n",
    "\n",
    "while True:\n",
    "    step += 1\n",
    "    flash_set = set()\n",
    "    flash_stack = []\n",
    "\n",
    "    for i, line in enumerate(grid):\n",
    "        for j, val in enumerate(line):\n",
    "            res = increase_power(res)\n",
    "\n",
    "    while flash_stack:\n",
    "        (i, j) = flash_stack.pop()\n",
    "        res = increase_power(res)\n",
    "\n",
    "    if step == 100:\n",
    "        print(\"Task 1 =\", res)\n",
    "\n",
    "    if len(flash_set) == 100:\n",
    "        break\n",
    "\n",
    "print(\"Task 2 =\", step)"
   ]
  },
  {
   "cell_type": "markdown",
   "id": "a836f20e-f5bc-4a32-9013-114dad03411f",
   "metadata": {
    "jp-MarkdownHeadingCollapsed": true,
    "tags": []
   },
   "source": [
    "## Day 12.\n",
    "https://adventofcode.com/2021/day/12"
   ]
  },
  {
   "cell_type": "code",
   "execution_count": 19,
   "id": "aa5a6408-c323-4143-bdcf-b8a638f3baea",
   "metadata": {},
   "outputs": [
    {
     "name": "stdout",
     "output_type": "stream",
     "text": [
      "Task 1 = 5874\n"
     ]
    }
   ],
   "source": [
    "# Task 1\n",
    "nodes = defaultdict(list)\n",
    "\n",
    "with open(\"./Day_12/input.txt\") as f:\n",
    "    for line in f:\n",
    "        node_1, node_2 = line.strip().split(\"-\")\n",
    "        if node_1 != \"end\" and node_2 != \"start\":\n",
    "            nodes[node_1].append(node_2)\n",
    "        if node_2 != \"end\" and node_1 != \"start\":\n",
    "            nodes[node_2].append(node_1)\n",
    "\n",
    "res = 0\n",
    "stack_ways = []\n",
    "for node in nodes[\"start\"]:\n",
    "    stack_ways.append((node, [node]))\n",
    "\n",
    "while stack_ways:\n",
    "    node, way = stack_ways.pop()\n",
    "    if node == \"end\":\n",
    "        res += 1\n",
    "        continue\n",
    "\n",
    "    for next_node in nodes[node]:\n",
    "        if next_node != \"end\" and next_node[0].islower() and next_node in way:\n",
    "            continue\n",
    "        next_way = way[:] + [next_node]\n",
    "        stack_ways.append((next_node, next_way))\n",
    "\n",
    "print(\"Task 1 =\", res)"
   ]
  },
  {
   "cell_type": "code",
   "execution_count": 20,
   "id": "d4df87e0-8002-4f45-8112-89ae3c88de69",
   "metadata": {},
   "outputs": [
    {
     "name": "stdout",
     "output_type": "stream",
     "text": [
      "Task 2 = 153592\n"
     ]
    }
   ],
   "source": [
    "# Task 2\n",
    "nodes = defaultdict(list)\n",
    "\n",
    "with open(\"./Day_12/input.txt\") as f:\n",
    "    for line in f:\n",
    "        node_1, node_2 = line.strip().split(\"-\")\n",
    "        if node_1 != \"end\" and node_2 != \"start\":\n",
    "            nodes[node_1].append(node_2)\n",
    "        if node_2 != \"end\" and node_1 != \"start\":\n",
    "            nodes[node_2].append(node_1)\n",
    "\n",
    "res = 0\n",
    "stack_ways = []\n",
    "for node in nodes[\"start\"]:\n",
    "    stack_ways.append((node, [node], False))\n",
    "\n",
    "while stack_ways:\n",
    "    node, way, small_twice = stack_ways.pop()\n",
    "    if node == \"end\":\n",
    "        res += 1\n",
    "        continue\n",
    "\n",
    "    for next_node in nodes[node]:\n",
    "        count_node = way.count(next_node)\n",
    "        small_cave = next_node != \"end\" and next_node[0].islower()\n",
    "\n",
    "        if small_cave and (count_node == 2 or count_node == 1 and small_twice):\n",
    "            continue\n",
    "\n",
    "        next_way = way + [next_node]\n",
    "        next_twice = small_twice or (small_cave and count_node == 1)\n",
    "        stack_ways.append((next_node, next_way, next_twice))\n",
    "\n",
    "print(\"Task 2 =\", res)"
   ]
  },
  {
   "cell_type": "markdown",
   "id": "99d8d1a5-5df0-4c05-b93f-2eb475ceaba6",
   "metadata": {
    "jp-MarkdownHeadingCollapsed": true,
    "tags": []
   },
   "source": [
    "## Day 13.\n",
    "https://adventofcode.com/2021/day/13"
   ]
  },
  {
   "cell_type": "code",
   "execution_count": 21,
   "id": "f257fd52-41c0-4789-b1a3-5c9630c7ca37",
   "metadata": {},
   "outputs": [
    {
     "name": "stdout",
     "output_type": "stream",
     "text": [
      "Task 1 = 735\n"
     ]
    }
   ],
   "source": [
    "# Task 1\n",
    "points = set()\n",
    "folds = []\n",
    "\n",
    "with open(\"./Day_13/input.txt\") as f:\n",
    "    for line in f:\n",
    "        line = line.strip()\n",
    "        if not line:\n",
    "            continue\n",
    "\n",
    "        if line[0].isdigit():\n",
    "            x, y = line.split(\",\")\n",
    "            points.add((int(x), int(y)))\n",
    "        else:\n",
    "            *other, coord, val = re.split(r\"[ =]\", line)\n",
    "            folds.append((coord, int(val)))\n",
    "\n",
    "points_to_del = []\n",
    "points_to_add = []\n",
    "for coord, val in folds[:1]:\n",
    "    for x, y in points:\n",
    "        if coord == \"x\":\n",
    "            if x > val:\n",
    "                new_x = val - (x - val)\n",
    "                points_to_add.append((new_x, y))\n",
    "                points_to_del.append((x, y))\n",
    "        else:\n",
    "            if y > val:\n",
    "                new_y = val - (y - val)\n",
    "                points_to_add.append((x, new_y))\n",
    "                points_to_del.append((x, y))\n",
    "\n",
    "points.difference_update(points_to_del)\n",
    "points.update(points_to_add)\n",
    "\n",
    "print(\"Task 1 =\", len(points))"
   ]
  },
  {
   "cell_type": "code",
   "execution_count": 22,
   "id": "46d2a725-fe9c-422e-b243-95c61ca59824",
   "metadata": {},
   "outputs": [
    {
     "name": "stdout",
     "output_type": "stream",
     "text": [
      "#..#.####.###..####.#..#..##..#..#.####.\n",
      "#..#.#....#..#....#.#.#..#..#.#..#....#.\n",
      "#..#.###..#..#...#..##...#..#.#..#...#..\n",
      "#..#.#....###...#...#.#..####.#..#..#...\n",
      "#..#.#....#.#..#....#.#..#..#.#..#.#....\n",
      ".##..#....#..#.####.#..#.#..#..##..####.\n"
     ]
    }
   ],
   "source": [
    "# Task 2\n",
    "points = set()\n",
    "folds = []\n",
    "\n",
    "with open(\"./Day_13/input.txt\") as f:\n",
    "    for line in f:\n",
    "        line = line.strip()\n",
    "        if not line:\n",
    "            continue\n",
    "\n",
    "        if line[0].isdigit():\n",
    "            x, y = line.split(\",\")\n",
    "            points.add((int(x), int(y)))\n",
    "        else:\n",
    "            *other, coord, val = re.split(r\"[ =]\", line)\n",
    "            folds.append((coord, int(val)))\n",
    "\n",
    "for coord, val in folds:\n",
    "    points_to_del = []\n",
    "    points_to_add = []\n",
    "\n",
    "    for x, y in points:\n",
    "        if coord == \"x\":\n",
    "            if x > val:\n",
    "                new_x = val - (x - val)\n",
    "                points_to_add.append((new_x, y))\n",
    "                points_to_del.append((x, y))\n",
    "        else:\n",
    "            if y > val:\n",
    "                new_y = val - (y - val)\n",
    "                points_to_add.append((x, new_y))\n",
    "                points_to_del.append((x, y))\n",
    "\n",
    "    points.difference_update(points_to_del)\n",
    "    points.update(points_to_add)\n",
    "\n",
    "grid = [[\"#\" if (x, y) in points else \".\" for x in range(40)] for y in range(6)]\n",
    "for line in grid:\n",
    "    print(\"\".join(line))"
   ]
  },
  {
   "cell_type": "markdown",
   "id": "08d8dff1-a14b-47df-be2f-647668dbbb44",
   "metadata": {
    "jp-MarkdownHeadingCollapsed": true,
    "tags": []
   },
   "source": [
    "## Day 14.\n",
    "https://adventofcode.com/2021/day/14"
   ]
  },
  {
   "cell_type": "code",
   "execution_count": 23,
   "id": "4761fee6-2f6f-4691-945b-b621dd2fb041",
   "metadata": {},
   "outputs": [
    {
     "name": "stdout",
     "output_type": "stream",
     "text": [
      "Task 1 = 3306\n"
     ]
    }
   ],
   "source": [
    "# Task 1\n",
    "pairs = {}\n",
    "polymer = []\n",
    "\n",
    "with open(\"./Day_14/input.txt\") as f:\n",
    "    for i, line in enumerate(f):\n",
    "        line = line.strip()\n",
    "        if i == 0:\n",
    "            polymer = list(line)\n",
    "        elif i > 1:\n",
    "            pair, val = line.split(\" -> \")\n",
    "            pairs[pair] = val\n",
    "\n",
    "for _ in range(10):\n",
    "    triples = [polymer[0]]\n",
    "    for a, b in zip(polymer, polymer[1:]):\n",
    "        triples.append(pairs[a + b])\n",
    "        triples.append(b)\n",
    "    polymer = triples\n",
    "\n",
    "c = list(Counter(polymer).most_common())\n",
    "print(\"Task 1 =\", c[0][1] - c[-1][1])"
   ]
  },
  {
   "cell_type": "code",
   "execution_count": 24,
   "id": "51390505-576b-464e-8249-bdaed3f53a34",
   "metadata": {},
   "outputs": [
    {
     "name": "stdout",
     "output_type": "stream",
     "text": [
      "Task 2 = 3760312702877\n"
     ]
    }
   ],
   "source": [
    "# Task 2\n",
    "# Main idea from aka_npou (https://github.com/aka-npou)\n",
    "\n",
    "pairs = {}\n",
    "polymer_pairs = defaultdict(int)\n",
    "counter = defaultdict(int)\n",
    "\n",
    "with open(\"./Day_14/input.txt\") as f:\n",
    "    for i, line in enumerate(f):\n",
    "        line = line.strip()\n",
    "        if i == 0:\n",
    "            for c in line:\n",
    "                counter[c] += 1\n",
    "            for a, b in zip(line, line[1:]):\n",
    "                polymer_pairs[a + b] += 1\n",
    "        elif i > 1:\n",
    "            pair, val = line.split(\" -> \")\n",
    "            pairs[pair] = val\n",
    "\n",
    "for _ in range(40):\n",
    "    new_pairs = defaultdict(int)\n",
    "    for pair, val in polymer_pairs.items():\n",
    "        ins = pairs[pair]\n",
    "        new_pairs[pair[0] + ins] += val\n",
    "        new_pairs[ins + pair[1]] += val\n",
    "        counter[ins] += val\n",
    "    polymer_pairs = new_pairs\n",
    "\n",
    "list_counter = sorted(counter.items(), key=lambda x: -x[1])\n",
    "print(\"Task 2 =\", list_counter[0][1] - list_counter[-1][1])"
   ]
  },
  {
   "cell_type": "markdown",
   "id": "f22d8a83-5912-44c0-8800-d15ffd6dd13c",
   "metadata": {},
   "source": [
    "## Day 15.\n",
    "https://adventofcode.com/2021/day/15"
   ]
  },
  {
   "cell_type": "code",
   "execution_count": 25,
   "id": "58069add-5c97-4988-9296-eda9d8aabf65",
   "metadata": {},
   "outputs": [
    {
     "name": "stdout",
     "output_type": "stream",
     "text": [
      "Task 1 = 613\n"
     ]
    }
   ],
   "source": [
    "# Task 1\n",
    "class Point:\n",
    "    rows = 0\n",
    "    cols = 0\n",
    "\n",
    "    def __init__(self, r, c, val):\n",
    "        self.r = r\n",
    "        self.c = c\n",
    "        self.val = val\n",
    "        self.val_dist = val + (rows - r) + (cols - c)\n",
    "\n",
    "    def __lt__(self, other):\n",
    "        return self.val_dist < other.val_dist\n",
    "\n",
    "\n",
    "grid = []\n",
    "path = []\n",
    "\n",
    "with open(\"./Day_15/input.txt\") as f:\n",
    "    for line in f:\n",
    "        grid.append([int(c) for c in line.strip()])\n",
    "\n",
    "dirs = [(-1, 0), (1, 0), (0, -1), (0, 1)]\n",
    "rows, cols = len(grid), len(grid[0])\n",
    "Point.rows = rows\n",
    "Point.cols = cols\n",
    "\n",
    "visited = [[False for _ in range(cols)] for _ in range(rows)]\n",
    "path = [[float(\"inf\") for _ in range(cols)] for _ in range(rows)]\n",
    "\n",
    "heap = []\n",
    "heappush(heap, Point(0, 0, 0))\n",
    "\n",
    "while heap:\n",
    "    p = heappop(heap)\n",
    "    r, c, val = p.r, p.c, p.val\n",
    "\n",
    "    if visited[r][c]:\n",
    "        continue\n",
    "\n",
    "    visited[r][c] = True\n",
    "    path[r][c] = min(val, path[r][c])\n",
    "\n",
    "    if r == rows - 1 and c == cols - 1:\n",
    "        break\n",
    "\n",
    "    for dr, dc in dirs:\n",
    "        new_r = r + dr\n",
    "        new_c = c + dc\n",
    "        if 0 <= new_r < rows and 0 <= new_c < cols and not visited[new_r][new_c]:\n",
    "            new_val = val + grid[new_r][new_c]\n",
    "            heappush(heap, Point(new_r, new_c, new_val))\n",
    "\n",
    "print(\"Task 1 =\", path[-1][-1])"
   ]
  },
  {
   "cell_type": "code",
   "execution_count": 26,
   "id": "f208f2e6-651f-4b31-956c-ff1a0f761918",
   "metadata": {},
   "outputs": [
    {
     "name": "stdout",
     "output_type": "stream",
     "text": [
      "Task 2 = 2899\n"
     ]
    }
   ],
   "source": [
    "# Task 2\n",
    "class Point:\n",
    "    rows = 0\n",
    "    cols = 0\n",
    "\n",
    "    def __init__(self, r, c, val):\n",
    "        self.r = r\n",
    "        self.c = c\n",
    "        self.val = val\n",
    "        self.val_dist = val + (rows - r) + (cols - c)\n",
    "\n",
    "    def __lt__(self, other):\n",
    "        return self.val_dist < other.val_dist\n",
    "\n",
    "\n",
    "# read map of small cave\n",
    "grid_small = []\n",
    "with open(\"./Day_15/input.txt\") as f:\n",
    "    for line in f:\n",
    "        grid_small.append([int(c) for c in line.strip()])\n",
    "\n",
    "# prepare full map of caves\n",
    "k = 5\n",
    "rows, cols = len(grid_small), len(grid_small[0])\n",
    "grid = [[0 for _ in range(k * cols)] for _ in range(k * rows)]\n",
    "for r in range(k * rows):\n",
    "    for c in range(k * cols):\n",
    "        new_val = grid_small[r % rows][c % cols] + r // rows + c // cols\n",
    "        grid[r][c] = new_val if new_val <= 9 else new_val % 10 + 1\n",
    "\n",
    "rows *= k\n",
    "cols *= k\n",
    "Point.rows = rows\n",
    "Point.cols = cols\n",
    "\n",
    "dirs = [(-1, 0), (1, 0), (0, -1), (0, 1)]\n",
    "visited = [[False for _ in range(cols)] for _ in range(rows)]\n",
    "path = [[float(\"inf\") for _ in range(cols)] for _ in range(rows)]\n",
    "\n",
    "heap = []\n",
    "heappush(heap, Point(0, 0, 0))\n",
    "\n",
    "while heap:\n",
    "    p = heappop(heap)\n",
    "    r, c, val = p.r, p.c, p.val\n",
    "\n",
    "    if visited[r][c]:\n",
    "        continue\n",
    "\n",
    "    visited[r][c] = True\n",
    "    path[r][c] = min(val, path[r][c])\n",
    "\n",
    "    if r == rows - 1 and c == cols - 1:\n",
    "        break\n",
    "\n",
    "    for dr, dc in dirs:\n",
    "        new_r = r + dr\n",
    "        new_c = c + dc\n",
    "        if 0 <= new_r < rows and 0 <= new_c < cols and not visited[new_r][new_c]:\n",
    "            new_val = val + grid[new_r][new_c]\n",
    "            heappush(heap, Point(new_r, new_c, new_val))\n",
    "\n",
    "print(\"Task 2 =\", path[-1][-1])"
   ]
  }
 ],
 "metadata": {
  "kernelspec": {
   "display_name": "Python 3 (ipykernel)",
   "language": "python",
   "name": "python3"
  },
  "language_info": {
   "codemirror_mode": {
    "name": "ipython",
    "version": 3
   },
   "file_extension": ".py",
   "mimetype": "text/x-python",
   "name": "python",
   "nbconvert_exporter": "python",
   "pygments_lexer": "ipython3",
   "version": "3.9.7"
  }
 },
 "nbformat": 4,
 "nbformat_minor": 5
}

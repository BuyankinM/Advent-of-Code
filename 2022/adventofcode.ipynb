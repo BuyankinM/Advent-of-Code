{
 "cells": [
  {
   "cell_type": "code",
   "execution_count": 1,
   "id": "d56c97d3-cf8d-4cf7-91be-22525fb29834",
   "metadata": {
    "tags": []
   },
   "outputs": [],
   "source": [
    "import re\n",
    "from collections import defaultdict"
   ]
  },
  {
   "cell_type": "markdown",
   "id": "8cecec6a-839b-4769-995a-284c8d83d3b1",
   "metadata": {
    "jp-MarkdownHeadingCollapsed": true,
    "tags": []
   },
   "source": [
    "## Day 1.\n",
    "https://adventofcode.com/2022/day/1"
   ]
  },
  {
   "cell_type": "code",
   "execution_count": 2,
   "id": "08442a2e-cc12-4741-b68c-be7fefc85660",
   "metadata": {
    "tags": []
   },
   "outputs": [
    {
     "name": "stdout",
     "output_type": "stream",
     "text": [
      "Task 1 = 70698\n",
      "Task 2 = 206643\n"
     ]
    }
   ],
   "source": [
    "# Task 1\n",
    "with open(\"./Day_01/input.txt\") as f:\n",
    "    cur_cal = 0\n",
    "    max_cal = 0\n",
    "    for line in (l.strip() for l in f):\n",
    "        if not line:\n",
    "            max_cal = max(max_cal, cur_cal)\n",
    "            cur_cal = 0\n",
    "        else:\n",
    "            cur_cal += int(line)\n",
    "\n",
    "print(\"Task 1 =\", max(max_cal, cur_cal))\n",
    "\n",
    "# Task 2\n",
    "with open(\"./Day_01/input.txt\") as f:\n",
    "    cur_cal = 0\n",
    "    calories = []\n",
    "    for line in (l.strip() for l in f):\n",
    "        if not line:\n",
    "            calories.append(cur_cal)\n",
    "            cur_cal = 0\n",
    "        else:\n",
    "            cur_cal += int(line)\n",
    "\n",
    "    calories.append(cur_cal)\n",
    "    calories.sort()\n",
    "\n",
    "print(\"Task 2 =\", sum(calories[-3:]))"
   ]
  },
  {
   "cell_type": "markdown",
   "id": "189573c6-db1f-402a-8493-50d04a66f5d3",
   "metadata": {
    "jp-MarkdownHeadingCollapsed": true,
    "tags": []
   },
   "source": [
    "## Day 2.\n",
    "https://adventofcode.com/2022/day/2"
   ]
  },
  {
   "cell_type": "code",
   "execution_count": 3,
   "id": "7b41ca87-36da-4056-9726-cccec631fb34",
   "metadata": {
    "tags": []
   },
   "outputs": [
    {
     "name": "stdout",
     "output_type": "stream",
     "text": [
      "Task 1 = 13682\n",
      "Task 2 = 13187\n"
     ]
    }
   ],
   "source": [
    "# Task 1\n",
    "with open(\"./Day_02/input.txt\") as f:\n",
    "    wins = {\"X\": \"C\", \"Y\": \"A\", \"Z\": \"B\"}\n",
    "    draws = {\"X\": \"A\", \"Y\": \"B\", \"Z\": \"C\"}\n",
    "    points = {\"X\": 1, \"Y\": 2, \"Z\": 3}\n",
    "\n",
    "    res = 0\n",
    "    for line in f:\n",
    "        his, my = line.strip().split()\n",
    "        if draws[my] == his:\n",
    "            res += 3\n",
    "        elif wins[my] == his:\n",
    "            res += 6\n",
    "        res += points[my]\n",
    "\n",
    "print(\"Task 1 =\", res)\n",
    "\n",
    "# Task 2\n",
    "with open(\"./Day_02/input.txt\") as f:\n",
    "    loses = {\"A\": \"C\", \"B\": \"A\", \"C\": \"B\"}\n",
    "    wins = {\"C\": \"A\", \"A\": \"B\", \"B\": \"C\"}\n",
    "    draws = {\"A\": \"A\", \"B\": \"B\", \"C\": \"C\"}\n",
    "    points = {\"A\": 1, \"B\": 2, \"C\": 3}\n",
    "    game_point = {\"X\": 0, \"Y\": 3, \"Z\": 6}\n",
    "\n",
    "    res = 0\n",
    "    for line in f:\n",
    "        his, game = line.strip().split()\n",
    "        res += game_point[game]\n",
    "        if my == \"X\":\n",
    "            res += points[loses[his]]\n",
    "        elif my == \"Y\":\n",
    "            res += points[draws[his]]\n",
    "        else:\n",
    "            res += points[wins[his]]\n",
    "\n",
    "print(\"Task 2 =\", res)"
   ]
  },
  {
   "cell_type": "markdown",
   "id": "c2a06b06-ae33-49a8-911e-9223d7027554",
   "metadata": {
    "jp-MarkdownHeadingCollapsed": true,
    "tags": []
   },
   "source": [
    "## Day 3.\n",
    "https://adventofcode.com/2022/day/3"
   ]
  },
  {
   "cell_type": "code",
   "execution_count": 4,
   "id": "4d17e762-84e7-4be2-93c8-7b45198185d6",
   "metadata": {
    "tags": []
   },
   "outputs": [
    {
     "name": "stdout",
     "output_type": "stream",
     "text": [
      "Task 1 = 8394\n",
      "Task 2 = 2413\n"
     ]
    }
   ],
   "source": [
    "# Task 1\n",
    "with open(\"./Day_03/input.txt\") as f:\n",
    "    res = 0\n",
    "    for line in (l.strip() for l in f):\n",
    "        l = len(line)\n",
    "        s1, s2 = set(line[: l // 2]), set(line[l // 2 :])\n",
    "        for c in s1 & s2:\n",
    "            code = ord(c)\n",
    "            res += (code - 97 + 1) if code >= 97 else (code - 65 + 27)\n",
    "\n",
    "print(\"Task 1 =\", res)\n",
    "\n",
    "# Task 2\n",
    "with open(\"./Day_03/input.txt\") as f:\n",
    "    res = 0\n",
    "    it = iter(f)\n",
    "    for (s1, s2, s3) in zip(it, it, it):\n",
    "        s1, s2, s3 = set(s1.strip()), set(s2.strip()), set(s3.strip())\n",
    "        for c in s1 & s2 & s3:\n",
    "            code = ord(c)\n",
    "            res += (code - 97 + 1) if code >= 97 else (code - 65 + 27)\n",
    "\n",
    "print(\"Task 2 =\", res)"
   ]
  },
  {
   "cell_type": "markdown",
   "id": "9566b555-c1b1-4b3f-b94f-e367a1e3c4a1",
   "metadata": {
    "jp-MarkdownHeadingCollapsed": true,
    "tags": []
   },
   "source": [
    "## Day 4.\n",
    "https://adventofcode.com/2022/day/4"
   ]
  },
  {
   "cell_type": "code",
   "execution_count": 5,
   "id": "0ed4bca0-76f3-4260-bdb9-522a9b10edf4",
   "metadata": {
    "tags": []
   },
   "outputs": [
    {
     "name": "stdout",
     "output_type": "stream",
     "text": [
      "Task 1 = 483\n",
      "Task 2 = 874\n"
     ]
    }
   ],
   "source": [
    "rex = re.compile(r\"(\\d+)-(\\d+),(\\d+)-(\\d+)\")\n",
    "\n",
    "# Task 1\n",
    "with open(\"./Day_04/input.txt\") as f:\n",
    "    res = 0\n",
    "    for line in f:\n",
    "        s_1, e_1, s_2, e_2 = rex.findall(line)[0]\n",
    "        s_1, e_1, s_2, e_2 = int(s_1), int(e_1), int(s_2), int(e_2)\n",
    "        if s_1 <= s_2 and e_1 >= e_2 or s_1 >= s_2 and e_1 <= e_2:\n",
    "            res += 1\n",
    "\n",
    "print(\"Task 1 =\", res)\n",
    "\n",
    "# Task 2\n",
    "with open(\"./Day_04/input.txt\") as f:\n",
    "    res = 0\n",
    "    for line in f:\n",
    "        s_1, e_1, s_2, e_2 = rex.findall(line)[0]\n",
    "        s_1, e_1, s_2, e_2 = int(s_1), int(e_1), int(s_2), int(e_2)\n",
    "        if s_1 <= s_2 <= e_1 or s_2 <= s_1 <= e_2:\n",
    "            res += 1\n",
    "\n",
    "print(\"Task 2 =\", res)"
   ]
  },
  {
   "cell_type": "markdown",
   "id": "4d3ad7e1-6361-4f08-bab4-995e807468ed",
   "metadata": {
    "jp-MarkdownHeadingCollapsed": true,
    "tags": []
   },
   "source": [
    "## Day 5.\n",
    "https://adventofcode.com/2022/day/5"
   ]
  },
  {
   "cell_type": "code",
   "execution_count": 6,
   "id": "2505260c-ad65-4cf9-a0bf-1308608ad286",
   "metadata": {
    "tags": []
   },
   "outputs": [
    {
     "name": "stdout",
     "output_type": "stream",
     "text": [
      "Task 1 = VJSFHWGFT\n",
      "Task 2 = LCTQFBVZV\n"
     ]
    }
   ],
   "source": [
    "rex = re.compile(r\"move (\\d+) from (\\d+) to (\\d+)\")\n",
    "\n",
    "# Task 1\n",
    "with open(\"./Day_05/input.txt\") as f:\n",
    "    stacks = defaultdict(list)\n",
    "    for line in f:\n",
    "        if \"[\" in line:\n",
    "            for i in range(1, len(line), 4):\n",
    "                if line[i].isalpha():\n",
    "                    stacks[1 + i // 4].insert(0, line[i])\n",
    "        if \"move\" in line:\n",
    "            num, start, end = rex.findall(line)[0]\n",
    "            for _ in range(int(num)):\n",
    "                stacks[int(end)].append(stacks[int(start)].pop())\n",
    "\n",
    "res = \"\".join(stacks[key][-1] for key in sorted(stacks))\n",
    "print(\"Task 1 =\", res)\n",
    "\n",
    "# Task 2\n",
    "with open(\"./Day_05/input.txt\") as f:\n",
    "    stacks = defaultdict(list)\n",
    "    for line in f:\n",
    "        if \"[\" in line:\n",
    "            for i in range(1, len(line), 4):\n",
    "                if line[i].isalpha():\n",
    "                    stacks[1 + i // 4].insert(0, line[i])\n",
    "        if \"move\" in line:\n",
    "            num, start, end = (int(d) for d in rex.findall(line)[0])\n",
    "            cur_stack = stacks[start]\n",
    "            stacks[end].extend(cur_stack[-num:])\n",
    "            stacks[start] = cur_stack[:-num]\n",
    "\n",
    "res = \"\".join(stacks[key][-1] for key in sorted(stacks))\n",
    "print(\"Task 2 =\", res)"
   ]
  },
  {
   "cell_type": "markdown",
   "id": "25d44f93-2899-49d6-bcfa-736cb5b03873",
   "metadata": {
    "tags": []
   },
   "source": [
    "## Day 6.\n",
    "https://adventofcode.com/2022/day/6"
   ]
  },
  {
   "cell_type": "code",
   "execution_count": 7,
   "id": "0c7fb6cd-55ca-4e64-b13c-1a8f75c47e8c",
   "metadata": {
    "tags": []
   },
   "outputs": [
    {
     "name": "stdout",
     "output_type": "stream",
     "text": [
      "Task 1 = 1625\n",
      "Task 2 = 2250\n"
     ]
    }
   ],
   "source": [
    "# Task 1\n",
    "with open(\"./Day_06/input.txt\") as f:\n",
    "    res = 0\n",
    "    n = 4\n",
    "    for line in f:\n",
    "        for i in range(len(line)):\n",
    "            if len(set(line[i: i + n])) == n:\n",
    "                res = i + n\n",
    "                break\n",
    "\n",
    "print(\"Task 1 =\", res)\n",
    "\n",
    "# Task 2\n",
    "with open(\"./Day_06/input.txt\") as f:\n",
    "    res = 0\n",
    "    n = 14\n",
    "    for line in f:\n",
    "        for i in range(len(line)):\n",
    "            if len(set(line[i: i + n])) == n:\n",
    "                res = i + n\n",
    "                break\n",
    "\n",
    "print(\"Task 2 =\", res)"
   ]
  }
 ],
 "metadata": {
  "kernelspec": {
   "display_name": "Python 3 (ipykernel)",
   "language": "python",
   "name": "python3"
  },
  "language_info": {
   "codemirror_mode": {
    "name": "ipython",
    "version": 3
   },
   "file_extension": ".py",
   "mimetype": "text/x-python",
   "name": "python",
   "nbconvert_exporter": "python",
   "pygments_lexer": "ipython3",
   "version": "3.9.15"
  }
 },
 "nbformat": 4,
 "nbformat_minor": 5
}

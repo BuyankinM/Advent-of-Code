{
 "cells": [
  {
   "cell_type": "code",
   "execution_count": 1,
   "id": "d56c97d3-cf8d-4cf7-91be-22525fb29834",
   "metadata": {
    "tags": []
   },
   "outputs": [],
   "source": [
    "import re\n",
    "from collections import defaultdict, deque\n",
    "from copy import deepcopy\n",
    "from functools import reduce\n",
    "from operator import iadd, imul\n",
    "from pprint import pprint"
   ]
  },
  {
   "cell_type": "markdown",
   "id": "8cecec6a-839b-4769-995a-284c8d83d3b1",
   "metadata": {
    "jp-MarkdownHeadingCollapsed": true,
    "tags": []
   },
   "source": [
    "## Day 1.\n",
    "https://adventofcode.com/2022/day/1"
   ]
  },
  {
   "cell_type": "code",
   "execution_count": 2,
   "id": "08442a2e-cc12-4741-b68c-be7fefc85660",
   "metadata": {
    "tags": []
   },
   "outputs": [
    {
     "name": "stdout",
     "output_type": "stream",
     "text": [
      "Task 1 = 70698\n",
      "Task 2 = 206643\n"
     ]
    }
   ],
   "source": [
    "# Task 1\n",
    "with open(\"./Day_01/input.txt\") as f:\n",
    "    cur_cal = 0\n",
    "    max_cal = 0\n",
    "    for line in (l.strip() for l in f):\n",
    "        if not line:\n",
    "            max_cal = max(max_cal, cur_cal)\n",
    "            cur_cal = 0\n",
    "        else:\n",
    "            cur_cal += int(line)\n",
    "\n",
    "print(\"Task 1 =\", max(max_cal, cur_cal))\n",
    "\n",
    "# Task 2\n",
    "with open(\"./Day_01/input.txt\") as f:\n",
    "    cur_cal = 0\n",
    "    calories = []\n",
    "    for line in (l.strip() for l in f):\n",
    "        if not line:\n",
    "            calories.append(cur_cal)\n",
    "            cur_cal = 0\n",
    "        else:\n",
    "            cur_cal += int(line)\n",
    "\n",
    "    calories.append(cur_cal)\n",
    "    calories.sort()\n",
    "\n",
    "print(\"Task 2 =\", sum(calories[-3:]))"
   ]
  },
  {
   "cell_type": "markdown",
   "id": "189573c6-db1f-402a-8493-50d04a66f5d3",
   "metadata": {
    "jp-MarkdownHeadingCollapsed": true,
    "tags": []
   },
   "source": [
    "## Day 2.\n",
    "https://adventofcode.com/2022/day/2"
   ]
  },
  {
   "cell_type": "code",
   "execution_count": 3,
   "id": "7b41ca87-36da-4056-9726-cccec631fb34",
   "metadata": {
    "tags": []
   },
   "outputs": [
    {
     "name": "stdout",
     "output_type": "stream",
     "text": [
      "Task 1 = 13682\n",
      "Task 2 = 13187\n"
     ]
    }
   ],
   "source": [
    "# Task 1\n",
    "with open(\"./Day_02/input.txt\") as f:\n",
    "    wins = {\"X\": \"C\", \"Y\": \"A\", \"Z\": \"B\"}\n",
    "    draws = {\"X\": \"A\", \"Y\": \"B\", \"Z\": \"C\"}\n",
    "    points = {\"X\": 1, \"Y\": 2, \"Z\": 3}\n",
    "\n",
    "    res = 0\n",
    "    for line in f:\n",
    "        his, my = line.strip().split()\n",
    "        if draws[my] == his:\n",
    "            res += 3\n",
    "        elif wins[my] == his:\n",
    "            res += 6\n",
    "        res += points[my]\n",
    "\n",
    "print(\"Task 1 =\", res)\n",
    "\n",
    "# Task 2\n",
    "with open(\"./Day_02/input.txt\") as f:\n",
    "    loses = {\"A\": \"C\", \"B\": \"A\", \"C\": \"B\"}\n",
    "    wins = {\"C\": \"A\", \"A\": \"B\", \"B\": \"C\"}\n",
    "    draws = {\"A\": \"A\", \"B\": \"B\", \"C\": \"C\"}\n",
    "    points = {\"A\": 1, \"B\": 2, \"C\": 3}\n",
    "    game_point = {\"X\": 0, \"Y\": 3, \"Z\": 6}\n",
    "\n",
    "    res = 0\n",
    "    for line in f:\n",
    "        his, game = line.strip().split()\n",
    "        res += game_point[game]\n",
    "        if my == \"X\":\n",
    "            res += points[loses[his]]\n",
    "        elif my == \"Y\":\n",
    "            res += points[draws[his]]\n",
    "        else:\n",
    "            res += points[wins[his]]\n",
    "\n",
    "print(\"Task 2 =\", res)"
   ]
  },
  {
   "cell_type": "markdown",
   "id": "c2a06b06-ae33-49a8-911e-9223d7027554",
   "metadata": {
    "jp-MarkdownHeadingCollapsed": true,
    "tags": []
   },
   "source": [
    "## Day 3.\n",
    "https://adventofcode.com/2022/day/3"
   ]
  },
  {
   "cell_type": "code",
   "execution_count": 4,
   "id": "4d17e762-84e7-4be2-93c8-7b45198185d6",
   "metadata": {
    "tags": []
   },
   "outputs": [
    {
     "name": "stdout",
     "output_type": "stream",
     "text": [
      "Task 1 = 8394\n",
      "Task 2 = 2413\n"
     ]
    }
   ],
   "source": [
    "# Task 1\n",
    "with open(\"./Day_03/input.txt\") as f:\n",
    "    res = 0\n",
    "    for line in (l.strip() for l in f):\n",
    "        l = len(line)\n",
    "        s1, s2 = set(line[: l // 2]), set(line[l // 2 :])\n",
    "        for c in s1 & s2:\n",
    "            code = ord(c)\n",
    "            res += (code - 97 + 1) if code >= 97 else (code - 65 + 27)\n",
    "\n",
    "print(\"Task 1 =\", res)\n",
    "\n",
    "# Task 2\n",
    "with open(\"./Day_03/input.txt\") as f:\n",
    "    res = 0\n",
    "    it = iter(f)\n",
    "    for (s1, s2, s3) in zip(it, it, it):\n",
    "        s1, s2, s3 = set(s1.strip()), set(s2.strip()), set(s3.strip())\n",
    "        for c in s1 & s2 & s3:\n",
    "            code = ord(c)\n",
    "            res += (code - 97 + 1) if code >= 97 else (code - 65 + 27)\n",
    "\n",
    "print(\"Task 2 =\", res)"
   ]
  },
  {
   "cell_type": "markdown",
   "id": "9566b555-c1b1-4b3f-b94f-e367a1e3c4a1",
   "metadata": {
    "jp-MarkdownHeadingCollapsed": true,
    "tags": []
   },
   "source": [
    "## Day 4.\n",
    "https://adventofcode.com/2022/day/4"
   ]
  },
  {
   "cell_type": "code",
   "execution_count": 5,
   "id": "0ed4bca0-76f3-4260-bdb9-522a9b10edf4",
   "metadata": {
    "tags": []
   },
   "outputs": [
    {
     "name": "stdout",
     "output_type": "stream",
     "text": [
      "Task 1 = 483\n",
      "Task 2 = 874\n"
     ]
    }
   ],
   "source": [
    "rex = re.compile(r\"(\\d+)-(\\d+),(\\d+)-(\\d+)\")\n",
    "\n",
    "# Task 1\n",
    "with open(\"./Day_04/input.txt\") as f:\n",
    "    res = 0\n",
    "    for line in f:\n",
    "        s_1, e_1, s_2, e_2 = rex.findall(line)[0]\n",
    "        s_1, e_1, s_2, e_2 = int(s_1), int(e_1), int(s_2), int(e_2)\n",
    "        if s_1 <= s_2 and e_1 >= e_2 or s_1 >= s_2 and e_1 <= e_2:\n",
    "            res += 1\n",
    "\n",
    "print(\"Task 1 =\", res)\n",
    "\n",
    "# Task 2\n",
    "with open(\"./Day_04/input.txt\") as f:\n",
    "    res = 0\n",
    "    for line in f:\n",
    "        s_1, e_1, s_2, e_2 = rex.findall(line)[0]\n",
    "        s_1, e_1, s_2, e_2 = int(s_1), int(e_1), int(s_2), int(e_2)\n",
    "        if s_1 <= s_2 <= e_1 or s_2 <= s_1 <= e_2:\n",
    "            res += 1\n",
    "\n",
    "print(\"Task 2 =\", res)"
   ]
  },
  {
   "cell_type": "markdown",
   "id": "4d3ad7e1-6361-4f08-bab4-995e807468ed",
   "metadata": {
    "jp-MarkdownHeadingCollapsed": true,
    "tags": []
   },
   "source": [
    "## Day 5.\n",
    "https://adventofcode.com/2022/day/5"
   ]
  },
  {
   "cell_type": "code",
   "execution_count": 6,
   "id": "2505260c-ad65-4cf9-a0bf-1308608ad286",
   "metadata": {
    "tags": []
   },
   "outputs": [
    {
     "name": "stdout",
     "output_type": "stream",
     "text": [
      "Task 1 = VJSFHWGFT\n",
      "Task 2 = LCTQFBVZV\n"
     ]
    }
   ],
   "source": [
    "rex = re.compile(r\"move (\\d+) from (\\d+) to (\\d+)\")\n",
    "\n",
    "# Task 1\n",
    "with open(\"./Day_05/input.txt\") as f:\n",
    "    stacks = defaultdict(list)\n",
    "    for line in f:\n",
    "        if \"[\" in line:\n",
    "            for i in range(1, len(line), 4):\n",
    "                if line[i].isalpha():\n",
    "                    stacks[1 + i // 4].insert(0, line[i])\n",
    "        if \"move\" in line:\n",
    "            num, start, end = rex.findall(line)[0]\n",
    "            for _ in range(int(num)):\n",
    "                stacks[int(end)].append(stacks[int(start)].pop())\n",
    "\n",
    "res = \"\".join(stacks[key][-1] for key in sorted(stacks))\n",
    "print(\"Task 1 =\", res)\n",
    "\n",
    "# Task 2\n",
    "with open(\"./Day_05/input.txt\") as f:\n",
    "    stacks = defaultdict(list)\n",
    "    for line in f:\n",
    "        if \"[\" in line:\n",
    "            for i in range(1, len(line), 4):\n",
    "                if line[i].isalpha():\n",
    "                    stacks[1 + i // 4].insert(0, line[i])\n",
    "        if \"move\" in line:\n",
    "            num, start, end = (int(d) for d in rex.findall(line)[0])\n",
    "            cur_stack = stacks[start]\n",
    "            stacks[end].extend(cur_stack[-num:])\n",
    "            stacks[start] = cur_stack[:-num]\n",
    "\n",
    "res = \"\".join(stacks[key][-1] for key in sorted(stacks))\n",
    "print(\"Task 2 =\", res)"
   ]
  },
  {
   "cell_type": "markdown",
   "id": "25d44f93-2899-49d6-bcfa-736cb5b03873",
   "metadata": {
    "jp-MarkdownHeadingCollapsed": true,
    "tags": []
   },
   "source": [
    "## Day 6.\n",
    "https://adventofcode.com/2022/day/6"
   ]
  },
  {
   "cell_type": "code",
   "execution_count": 7,
   "id": "0c7fb6cd-55ca-4e64-b13c-1a8f75c47e8c",
   "metadata": {
    "tags": []
   },
   "outputs": [
    {
     "name": "stdout",
     "output_type": "stream",
     "text": [
      "Task 1 = 1625\n",
      "Task 2 = 2250\n"
     ]
    }
   ],
   "source": [
    "# Task 1\n",
    "with open(\"./Day_06/input.txt\") as f:\n",
    "    res = 0\n",
    "    n = 4\n",
    "    for line in f:\n",
    "        for i in range(len(line)):\n",
    "            if len(set(line[i : i + n])) == n:\n",
    "                res = i + n\n",
    "                break\n",
    "\n",
    "print(\"Task 1 =\", res)\n",
    "\n",
    "# Task 2\n",
    "with open(\"./Day_06/input.txt\") as f:\n",
    "    res = 0\n",
    "    n = 14\n",
    "    for line in f:\n",
    "        for i in range(len(line)):\n",
    "            if len(set(line[i : i + n])) == n:\n",
    "                res = i + n\n",
    "                break\n",
    "\n",
    "print(\"Task 2 =\", res)"
   ]
  },
  {
   "cell_type": "markdown",
   "id": "af1f711e-19e1-4cc2-a0d2-04de428b26a8",
   "metadata": {
    "jp-MarkdownHeadingCollapsed": true,
    "tags": []
   },
   "source": [
    "## Day 7.\n",
    "https://adventofcode.com/2022/day/7"
   ]
  },
  {
   "cell_type": "code",
   "execution_count": 8,
   "id": "ca277e28-e578-4904-b0b5-be54dc5e877a",
   "metadata": {
    "tags": []
   },
   "outputs": [
    {
     "name": "stdout",
     "output_type": "stream",
     "text": [
      "Task 1 = 1783610\n",
      "Task 2 = 4370655\n"
     ]
    }
   ],
   "source": [
    "# Task 1\n",
    "with open(\"./Day_07/input.txt\") as f:\n",
    "    cur_dir = \".\"\n",
    "    dirs_stat = {}\n",
    "    for line in (line.strip() for line in f):\n",
    "        if line.startswith(\"$ cd\"):\n",
    "            next_dir = line[5:]\n",
    "            if next_dir == \"..\":\n",
    "                pos = cur_dir.rfind(\"/\")\n",
    "                cur_dir = cur_dir[:pos]\n",
    "            else:\n",
    "                if next_dir != \"/\":\n",
    "                    cur_dir = f\"{cur_dir}/{next_dir}\"\n",
    "                dirs_stat[cur_dir] = {\"file_sizes\": 0, \"childs\": []}\n",
    "        elif line.startswith(\"dir\"):\n",
    "            full_name = f\"{cur_dir}/{line[4:]}\"\n",
    "            dirs_stat[cur_dir][\"childs\"].append(full_name)\n",
    "        elif line[0].isdigit():\n",
    "            size = int(line[: line.find(\" \")])\n",
    "            dirs_stat[cur_dir][\"file_sizes\"] += size\n",
    "\n",
    "    res = 0\n",
    "    sizes = []\n",
    "    for vals in dirs_stat.values():\n",
    "        total_size = vals[\"file_sizes\"]\n",
    "        stack = vals[\"childs\"]\n",
    "\n",
    "        while stack:\n",
    "            child = stack.pop()\n",
    "            child_data = dirs_stat[child]\n",
    "            total_size += child_data[\"file_sizes\"]\n",
    "            stack.extend(child_data[\"childs\"])\n",
    "\n",
    "        sizes.append(total_size)\n",
    "        if total_size <= 100_000:\n",
    "            res += total_size\n",
    "\n",
    "print(\"Task 1 =\", res)\n",
    "\n",
    "# Task 2\n",
    "sizes.sort(reverse=True)\n",
    "cur_free = 70_000_000 - sizes[0]\n",
    "cur_need = 30_000_000 - cur_free\n",
    "min_size = 0\n",
    "\n",
    "for size in sizes:\n",
    "    if size < cur_need:\n",
    "        break\n",
    "    min_size = size\n",
    "\n",
    "print(\"Task 2 =\", min_size)"
   ]
  },
  {
   "cell_type": "markdown",
   "id": "c09e505d-86f1-4be6-a586-80c38316386f",
   "metadata": {
    "jp-MarkdownHeadingCollapsed": true,
    "tags": []
   },
   "source": [
    "## Day 8.\n",
    "https://adventofcode.com/2022/day/8"
   ]
  },
  {
   "cell_type": "code",
   "execution_count": 9,
   "id": "4518b02e-3dcd-4fc9-ba7c-195400099726",
   "metadata": {
    "tags": []
   },
   "outputs": [
    {
     "name": "stdout",
     "output_type": "stream",
     "text": [
      "Task 1 = 1843\n",
      "Task 2 = 180000\n"
     ]
    }
   ],
   "source": [
    "# Task 1\n",
    "with open(\"./Day_08/input.txt\") as f:\n",
    "    matrix = []\n",
    "    for line in (line.strip() for line in f):\n",
    "        matrix.append([int(c) for c in line])\n",
    "\n",
    "    rows, cols = len(matrix), len(matrix[0])\n",
    "    count = 2 * (cols + rows) - 4\n",
    "    visible = set()\n",
    "\n",
    "    for r in range(1, rows - 1):\n",
    "        # left to right\n",
    "        max_height = matrix[r][0]\n",
    "        for c in range(1, cols - 1):\n",
    "            height = matrix[r][c]\n",
    "            if height > max_height:\n",
    "                count += 1\n",
    "                max_height = height\n",
    "                visible.add((r, c))\n",
    "\n",
    "        # right to left\n",
    "        max_height = matrix[r][-1]\n",
    "        for c in range(cols - 2, 0, -1):\n",
    "            pos = (r, c)\n",
    "            height = matrix[r][c]\n",
    "            if height > max_height:\n",
    "                count += pos not in visible\n",
    "                max_height = height\n",
    "                visible.add(pos)\n",
    "\n",
    "    for c in range(1, cols - 1):\n",
    "        # top to bottom\n",
    "        max_height = matrix[0][c]\n",
    "        for r in range(1, rows - 1):\n",
    "            pos = (r, c)\n",
    "            height = matrix[r][c]\n",
    "            if height > max_height:\n",
    "                count += pos not in visible\n",
    "                max_height = height\n",
    "                visible.add(pos)\n",
    "\n",
    "        # bottom to top\n",
    "        max_height = matrix[-1][c]\n",
    "        for r in range(rows - 2, 0, -1):\n",
    "            pos = (r, c)\n",
    "            height = matrix[r][c]\n",
    "            if height > max_height:\n",
    "                count += pos not in visible\n",
    "                max_height = height\n",
    "                visible.add(pos)\n",
    "\n",
    "print(\"Task 1 =\", count)\n",
    "\n",
    "# Task 2\n",
    "max_score = 0\n",
    "for r in range(1, rows - 1):\n",
    "    for c in range(1, cols - 1):\n",
    "        base = matrix[r][c]\n",
    "        left, up, right, down = (0, 0, 0, 0)\n",
    "\n",
    "        # left\n",
    "        for lc in range(c - 1, -1, -1):\n",
    "            left += 1\n",
    "            if matrix[r][lc] >= base:\n",
    "                break\n",
    "\n",
    "        # right\n",
    "        for rc in range(c + 1, cols):\n",
    "            right += 1\n",
    "            if matrix[r][rc] >= base:\n",
    "                break\n",
    "\n",
    "        # up\n",
    "        for ur in range(r - 1, -1, -1):\n",
    "            up += 1\n",
    "            if matrix[ur][c] >= base:\n",
    "                break\n",
    "\n",
    "        # down\n",
    "        for dr in range(r + 1, rows):\n",
    "            down += 1\n",
    "            if matrix[dr][c] >= base:\n",
    "                break\n",
    "\n",
    "        max_score = max(max_score, left * up * right * down)\n",
    "\n",
    "print(\"Task 2 =\", max_score)"
   ]
  },
  {
   "cell_type": "markdown",
   "id": "2593b30f-acc5-47b2-b6b4-598c0179e80b",
   "metadata": {
    "jp-MarkdownHeadingCollapsed": true,
    "tags": []
   },
   "source": [
    "## Day 9.\n",
    "https://adventofcode.com/2022/day/9"
   ]
  },
  {
   "cell_type": "code",
   "execution_count": 10,
   "id": "15592633-07e7-4772-8a52-c6ffc20cd2f4",
   "metadata": {
    "tags": []
   },
   "outputs": [
    {
     "name": "stdout",
     "output_type": "stream",
     "text": [
      "Task 1 = 6057\n",
      "Task 2 = 2514\n"
     ]
    }
   ],
   "source": [
    "dirs = {\"R\": (1, 0), \"L\": (-1, 0), \"U\": (0, 1), \"D\": (0, -1)}\n",
    "\n",
    "# Task 1\n",
    "with open(\"./Day_09/input.txt\") as f:\n",
    "    visited = {(0, 0)}\n",
    "    x_h, y_h = 0, 0\n",
    "    x_t, y_t = 0, 0\n",
    "\n",
    "    for line in f:\n",
    "        dir, num = line.strip().split()\n",
    "        for _ in range(int(num)):\n",
    "            dx, dy = dirs[dir]\n",
    "            pos_h = (x_h, y_h)\n",
    "            x_h += dx\n",
    "            y_h += dy\n",
    "            if abs(x_h - x_t) > 1 or abs(y_h - y_t) > 1:\n",
    "                visited.add(pos_h)\n",
    "                x_t, y_t = pos_h\n",
    "\n",
    "print(\"Task 1 =\", len(visited))\n",
    "\n",
    "# Task 2\n",
    "with open(\"./Day_09/input.txt\") as f:\n",
    "    visited = {(0, 0)}\n",
    "    x_h, y_h = 0, 0\n",
    "    tail = [(0, 0)] * 9\n",
    "\n",
    "    for line in f:\n",
    "        dir, num = line.strip().split()\n",
    "        for _ in range(int(num)):\n",
    "            dx, dy = dirs[dir]\n",
    "            new_pos = (x_h + dx, y_h + dy)\n",
    "            x_h, y_h = new_pos\n",
    "            for i, (x_t, y_t) in enumerate(tail):\n",
    "                x_cur, y_cur = new_pos\n",
    "                if abs(x_cur - x_t) > 1 or abs(y_cur - y_t) > 1:\n",
    "                    ddx = int((x_cur - x_t) / 2)\n",
    "                    ddy = int((y_cur - y_t) / 2)\n",
    "                    new_pos = (x_cur - ddx, y_cur - ddy)\n",
    "                    tail[i] = new_pos\n",
    "                    if i == 8:\n",
    "                        visited.add(new_pos)\n",
    "                else:\n",
    "                    break\n",
    "\n",
    "print(\"Task 2 =\", len(visited))"
   ]
  },
  {
   "cell_type": "markdown",
   "id": "09b26a40-af93-401f-b9fb-3ec6fea0972a",
   "metadata": {
    "jp-MarkdownHeadingCollapsed": true,
    "tags": []
   },
   "source": [
    "## Day 10.\n",
    "https://adventofcode.com/2022/day/10"
   ]
  },
  {
   "cell_type": "code",
   "execution_count": 11,
   "id": "fb84f9f5-1615-4f0d-b2aa-8f3bd6bc7a2d",
   "metadata": {
    "tags": []
   },
   "outputs": [
    {
     "name": "stdout",
     "output_type": "stream",
     "text": [
      "Task 1 = 12540\n",
      "Task 2 = \n",
      "────────────────────────────────────────\n",
      "####.####..##..####.####.#....#..#.####.\n",
      "#....#....#..#....#.#....#....#..#.#....\n",
      "###..###..#......#..###..#....####.###..\n",
      "#....#....#.....#...#....#....#..#.#....\n",
      "#....#....#..#.#....#....#....#..#.#....\n",
      "#....####..##..####.####.####.#..#.####.\n",
      "\n",
      "────────────────────────────────────────\n"
     ]
    }
   ],
   "source": [
    "results = []\n",
    "reg, cycle = (1, 1)\n",
    "(cycle_cur, cycle_max) = (20, 220)\n",
    "\n",
    "# Task 1\n",
    "with open(\"./Day_10/input.txt\") as f:\n",
    "    for line in f:\n",
    "        if line.startswith(\"noop\"):\n",
    "            cycle += 1\n",
    "            num = 0\n",
    "        else:\n",
    "            num = int(line[line.find(\" \") : -1])\n",
    "            cycle += 2\n",
    "        if cycle > cycle_cur:\n",
    "            results.append(reg * cycle_cur)\n",
    "            cycle_cur += 40\n",
    "            if cycle_cur > cycle_max:\n",
    "                break\n",
    "        reg += num\n",
    "\n",
    "print(\"Task 1 =\", sum(results))\n",
    "\n",
    "# Task 2\n",
    "screen = []\n",
    "reg, cycle = (1, 1)\n",
    "point = -1\n",
    "\n",
    "with open(\"./Day_10/input.txt\") as f:\n",
    "    for line in f:\n",
    "        if line.startswith(\"noop\"):\n",
    "            n = 1\n",
    "            num = 0\n",
    "        else:\n",
    "            n = 2\n",
    "            num = int(line[line.find(\" \") : -1])\n",
    "\n",
    "        for _ in range(n):\n",
    "            cycle += 1\n",
    "            point = (point + 1) % 40\n",
    "            screen.append(\"#\" if abs(reg - point) <= 1 else \".\")\n",
    "        reg += num\n",
    "\n",
    "print(\"Task 2 = \")\n",
    "print(\"─\" * 40)\n",
    "for i in range(0, 241, 40):\n",
    "    print(\"\".join(screen[i : i + 40]))\n",
    "print(\"─\" * 40)"
   ]
  },
  {
   "cell_type": "markdown",
   "id": "fed816a9-8c66-42cb-b31d-de560d5553a2",
   "metadata": {
    "tags": []
   },
   "source": [
    "## Day 11.\n",
    "https://adventofcode.com/2022/day/11"
   ]
  },
  {
   "cell_type": "code",
   "execution_count": 12,
   "id": "92e1d7d2-11de-470d-bdcc-433be0534d7e",
   "metadata": {
    "tags": []
   },
   "outputs": [
    {
     "name": "stdout",
     "output_type": "stream",
     "text": [
      "Task 1 = 51075\n",
      "Task 2 = 11741456163\n"
     ]
    }
   ],
   "source": [
    "def calc_monkeys(monkeys, rounds, d):\n",
    "    div_nums = reduce(imul, [data[\"div_num\"] for data in monkeys.values()])\n",
    "\n",
    "    for _ in range(rounds):\n",
    "        for num in range(last_monkey + 1):\n",
    "            data = monkeys[num]\n",
    "            items = data[\"items\"]\n",
    "            if not items:\n",
    "                continue\n",
    "\n",
    "            while items:\n",
    "                data[\"count\"] += 1\n",
    "                item = items.popleft()\n",
    "                x = item if data[\"func\"][\"x\"] == -1 else data[\"func\"][\"x\"]\n",
    "                y = item if data[\"func\"][\"y\"] == -1 else data[\"func\"][\"y\"]\n",
    "                res = (data[\"func\"][\"op\"](x, y)) // d\n",
    "                if res % data[\"div_num\"] == 0:\n",
    "                    monkeys[data[\"div_true\"]][\"items\"].append(res % div_nums)\n",
    "                else:\n",
    "                    monkeys[data[\"div_false\"]][\"items\"].append(res % div_nums)\n",
    "\n",
    "    counts = []\n",
    "    for num in range(last_monkey + 1):\n",
    "        counts.append(monkeys[num][\"count\"])\n",
    "    counts.sort()\n",
    "\n",
    "    return counts[-2] * counts[-1]\n",
    "\n",
    "\n",
    "monkeys = {}\n",
    "\n",
    "find_dig = re.compile(r\"(\\d+)\")\n",
    "find_items = re.compile(r\"(\\d+)\")\n",
    "find_op = re.compile(r\"= (.+) (.) (.+)\")\n",
    "\n",
    "# Task 1\n",
    "with open(\"./Day_11/input.txt\") as f:\n",
    "    last_monkey = 0\n",
    "    num = 0\n",
    "    for line in f:\n",
    "        if \"Monkey\" in line:\n",
    "            num = int(find_dig.search(line).group(0))\n",
    "            monkeys[num] = {\n",
    "                \"items\": deque([]),\n",
    "                \"func\": {\"x\": -1, \"y\": -1, \"op\": None},\n",
    "                \"div_num\": -1,\n",
    "                \"div_true\": -1,\n",
    "                \"div_false\": -1,\n",
    "                \"count\": 0,\n",
    "            }\n",
    "            last_monkey = max(last_monkey, num)\n",
    "        elif \"Starting\" in line:\n",
    "            for d in find_items.findall(line):\n",
    "                monkeys[num][\"items\"].append(int(d))\n",
    "        elif \"Operation\" in line:\n",
    "            x, op, y = find_op.search(line).groups()\n",
    "            monkeys[num][\"func\"][\"x\"] = -1 if x == \"old\" else int(x)\n",
    "            monkeys[num][\"func\"][\"y\"] = -1 if y == \"old\" else int(y)\n",
    "            monkeys[num][\"func\"][\"op\"] = iadd if op == \"+\" else imul\n",
    "        elif \"divisible\" in line:\n",
    "            div_num = int(find_dig.search(line).group(0))\n",
    "            monkeys[num][\"div_num\"] = int(div_num)\n",
    "        elif \"true\" in line:\n",
    "            div_true = int(find_dig.search(line).group(0))\n",
    "            monkeys[num][\"div_true\"] = int(div_true)\n",
    "        elif \"false\" in line:\n",
    "            div_false = int(find_dig.search(line).group(0))\n",
    "            monkeys[num][\"div_false\"] = int(div_false)\n",
    "\n",
    "monkeys_2 = deepcopy(monkeys)\n",
    "\n",
    "print(\"Task 1 =\", calc_monkeys(monkeys, 20, 3))\n",
    "\n",
    "# Task 2\n",
    "print(\"Task 2 =\", calc_monkeys(monkeys_2, 10_000, 1))"
   ]
  }
 ],
 "metadata": {
  "kernelspec": {
   "display_name": "Python 3 (ipykernel)",
   "language": "python",
   "name": "python3"
  },
  "language_info": {
   "codemirror_mode": {
    "name": "ipython",
    "version": 3
   },
   "file_extension": ".py",
   "mimetype": "text/x-python",
   "name": "python",
   "nbconvert_exporter": "python",
   "pygments_lexer": "ipython3",
   "version": "3.9.15"
  }
 },
 "nbformat": 4,
 "nbformat_minor": 5
}

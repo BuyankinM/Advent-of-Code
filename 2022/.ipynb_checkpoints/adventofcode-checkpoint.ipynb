{
 "cells": [
  {
   "cell_type": "code",
   "execution_count": 1,
   "id": "d56c97d3-cf8d-4cf7-91be-22525fb29834",
   "metadata": {
    "tags": []
   },
   "outputs": [],
   "source": [
    "from collections import Counter, defaultdict\n",
    "from functools import reduce\n",
    "from heapq import heappop, heappush\n",
    "from itertools import accumulate"
   ]
  },
  {
   "cell_type": "markdown",
   "id": "8cecec6a-839b-4769-995a-284c8d83d3b1",
   "metadata": {
    "jp-MarkdownHeadingCollapsed": true,
    "tags": []
   },
   "source": [
    "## Day 1.\n",
    "https://adventofcode.com/2022/day/1"
   ]
  },
  {
   "cell_type": "code",
   "execution_count": 2,
   "id": "08442a2e-cc12-4741-b68c-be7fefc85660",
   "metadata": {
    "tags": []
   },
   "outputs": [
    {
     "name": "stdout",
     "output_type": "stream",
     "text": [
      "Task 1 = 70698\n",
      "Task 2 = 206643\n"
     ]
    }
   ],
   "source": [
    "# Task 1\n",
    "with open(\"./Day_01/input.txt\") as f:\n",
    "    cur_cal = 0\n",
    "    max_cal = 0\n",
    "    for line in (l.strip() for l in f):\n",
    "        if not line:\n",
    "            max_cal = max(max_cal, cur_cal)\n",
    "            cur_cal = 0\n",
    "        else:\n",
    "            cur_cal += int(line)\n",
    "\n",
    "print(\"Task 1 =\", max(max_cal, cur_cal))\n",
    "\n",
    "# Task 2\n",
    "with open(\"./Day_01/input.txt\") as f:\n",
    "    cur_cal = 0\n",
    "    calories = []\n",
    "    \n",
    "    for line in (l.strip() for l in f):\n",
    "        if not line:\n",
    "            calories.append(cur_cal)\n",
    "            cur_cal = 0\n",
    "        else:\n",
    "            cur_cal += int(line)\n",
    "    \n",
    "    calories.append(cur_cal)\n",
    "    calories.sort()\n",
    "\n",
    "print(\"Task 2 =\", sum(calories[-3:]))"
   ]
  }
 ],
 "metadata": {
  "kernelspec": {
   "display_name": "Python 3 (ipykernel)",
   "language": "python",
   "name": "python3"
  },
  "language_info": {
   "codemirror_mode": {
    "name": "ipython",
    "version": 3
   },
   "file_extension": ".py",
   "mimetype": "text/x-python",
   "name": "python",
   "nbconvert_exporter": "python",
   "pygments_lexer": "ipython3",
   "version": "3.9.13"
  }
 },
 "nbformat": 4,
 "nbformat_minor": 5
}

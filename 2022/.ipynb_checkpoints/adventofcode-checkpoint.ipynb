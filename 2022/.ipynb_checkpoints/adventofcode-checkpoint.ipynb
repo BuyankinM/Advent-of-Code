{
 "cells": [
  {
   "cell_type": "code",
   "execution_count": 1,
   "id": "d56c97d3-cf8d-4cf7-91be-22525fb29834",
   "metadata": {
    "tags": []
   },
   "outputs": [],
   "source": [
    "from collections import Counter, defaultdict\n",
    "from functools import reduce\n",
    "from heapq import heappop, heappush\n",
    "from itertools import accumulate"
   ]
  },
  {
   "cell_type": "markdown",
   "id": "8cecec6a-839b-4769-995a-284c8d83d3b1",
   "metadata": {
    "jp-MarkdownHeadingCollapsed": true,
    "tags": []
   },
   "source": [
    "## Day 1.\n",
    "https://adventofcode.com/2022/day/1"
   ]
  },
  {
   "cell_type": "code",
   "execution_count": 2,
   "id": "08442a2e-cc12-4741-b68c-be7fefc85660",
   "metadata": {
    "tags": []
   },
   "outputs": [
    {
     "name": "stdout",
     "output_type": "stream",
     "text": [
      "Task 1 = 70698\n",
      "Task 2 = 206643\n"
     ]
    }
   ],
   "source": [
    "# Task 1\n",
    "with open(\"./Day_01/input.txt\") as f:\n",
    "    cur_cal = 0\n",
    "    max_cal = 0\n",
    "    for line in (l.strip() for l in f):\n",
    "        if not line:\n",
    "            max_cal = max(max_cal, cur_cal)\n",
    "            cur_cal = 0\n",
    "        else:\n",
    "            cur_cal += int(line)\n",
    "\n",
    "print(\"Task 1 =\", max(max_cal, cur_cal))\n",
    "\n",
    "# Task 2\n",
    "with open(\"./Day_01/input.txt\") as f:\n",
    "    cur_cal = 0\n",
    "    calories = []\n",
    "    for line in (l.strip() for l in f):\n",
    "        if not line:\n",
    "            calories.append(cur_cal)\n",
    "            cur_cal = 0\n",
    "        else:\n",
    "            cur_cal += int(line)\n",
    "    \n",
    "    calories.append(cur_cal)\n",
    "    calories.sort()\n",
    "\n",
    "print(\"Task 2 =\", sum(calories[-3:]))"
   ]
  },
  {
   "cell_type": "markdown",
   "id": "189573c6-db1f-402a-8493-50d04a66f5d3",
   "metadata": {
    "tags": []
   },
   "source": [
    "## Day 2.\n",
    "https://adventofcode.com/2022/day/2"
   ]
  },
  {
   "cell_type": "code",
   "execution_count": 3,
   "id": "7b41ca87-36da-4056-9726-cccec631fb34",
   "metadata": {
    "tags": []
   },
   "outputs": [
    {
     "name": "stdout",
     "output_type": "stream",
     "text": [
      "Task 1 = 13682\n",
      "Task 2 = 13187\n"
     ]
    }
   ],
   "source": [
    "# Task 1\n",
    "with open(\"./Day_02/input.txt\") as f:\n",
    "    wins = {\"X\":\"C\", \"Y\":\"A\", \"Z\":\"B\"}\n",
    "    draws = {\"X\":\"A\", \"Y\":\"B\", \"Z\":\"C\"}\n",
    "    points = {\"X\":1, \"Y\":2, \"Z\":3}\n",
    "    \n",
    "    res = 0\n",
    "    for line in f:\n",
    "        his, my = line.strip().split()\n",
    "        if draws[my] == his:\n",
    "            res += 3\n",
    "        elif wins[my] == his:\n",
    "            res += 6\n",
    "        res += points[my]\n",
    "\n",
    "print(\"Task 1 =\", res)\n",
    "\n",
    "# Task 2\n",
    "with open(\"./Day_02/input.txt\") as f:\n",
    "    loses = {\"A\":\"C\", \"B\":\"A\", \"C\":\"B\"}\n",
    "    wins = {\"C\":\"A\", \"A\":\"B\", \"B\":\"C\"}\n",
    "    draws = {\"A\":\"A\", \"B\":\"B\", \"C\":\"C\"}\n",
    "    points = {\"A\":1, \"B\":2, \"C\":3}\n",
    "    game_point = {\"X\":0, \"Y\":3, \"Z\":6}\n",
    "    \n",
    "    res = 0\n",
    "    for line in f:\n",
    "        his, game = line.strip().split()\n",
    "        res += game_point[game]\n",
    "        if my == \"X\":\n",
    "            res += points[loses[his]]\n",
    "        elif my == \"Y\":\n",
    "            res += points[draws[his]]\n",
    "        else:\n",
    "            res += points[wins[his]]\n",
    "\n",
    "print(\"Task 2 =\", res)"
   ]
  }
 ],
 "metadata": {
  "kernelspec": {
   "display_name": "Python 3 (ipykernel)",
   "language": "python",
   "name": "python3"
  },
  "language_info": {
   "codemirror_mode": {
    "name": "ipython",
    "version": 3
   },
   "file_extension": ".py",
   "mimetype": "text/x-python",
   "name": "python",
   "nbconvert_exporter": "python",
   "pygments_lexer": "ipython3",
   "version": "3.9.13"
  }
 },
 "nbformat": 4,
 "nbformat_minor": 5
}
